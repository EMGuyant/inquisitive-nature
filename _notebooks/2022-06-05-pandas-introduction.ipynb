{
 "cells": [
  {
   "cell_type": "markdown",
   "metadata": {},
   "source": [
    "## Contents\n",
    "* [Overview](#overview)\n",
    "* [Installation and Use](#installing-and-using-pandas)\n",
    "* [Pandas Data Structures](#pandas-data-structures)\n",
    "  * [Index](#pandas-index)\n",
    "  * [Series](#pandas-series)\n",
    "  * [DataFrame](#pandas-dataframe)\n",
    "* [Summary](#summary)"
   ]
  },
  {
   "cell_type": "markdown",
   "metadata": {},
   "source": [
    "---"
   ]
  },
  {
   "cell_type": "markdown",
   "metadata": {},
   "source": [
    "## Overview\n",
    "Pandas is a fast, powerful, flexible and easy to use open source data analysis and manipulation tool, built on top of the Python programming language ([pandas](https://pandas.pydata.org/){: .post__link}). Pandas excels at working with tabular data which can be stored using pandas `DataFrames`. `DataFrames` are multidimensional arrays which contain row and column labels and can store various data types including missing data. In addition to providing `DataFrame` as an advantageous data storage interface, pandas also offers numerous data operations that will be familiar to users of databases and spreadsheets.\n",
    ">Pandas `Series` and `DataFrame` objects build upon the NumPy array structure and provide flexibility (e.g. attaching data labels), data cleaning operations (e.g. working with missing data), and data transformation operations (e.g. groupings).\n",
    "\n",
    "### Types of Data\n",
    "* Tabular data with heterogeneous data type columns\n",
    "* Time series data (ordered and unordered)\n",
    "* Matrix data with row and column labels\n",
    "* Observation or statistical datasets\n",
    "\n",
    "### Task Pandas Excels At\n",
    "* Handling of missing data (`NaN`)\n",
    "* The addition or deletion of columns from DataFrames (size mutable)\n",
    "* Data alignment, can be explicit with a set of labels or automatic (ignoring labels)\n",
    "* Group by functionality for aggregating and transforming data\n",
    "* Label-based slicing, indexing, and subsetting of datasets\n",
    "* Merging and Joining datasets\n",
    "\n",
    ">A data science project typically includes an iterative cycle of data cleaning, data modeling, data analysis, and formatting of result suitable for communicating results - Pandas is an excellent tool for each of these tasks.\n",
    "\n",
    "For more details on how Pandas can be used for these tasks see:\n",
    "* [Pandas: Indexing and Slicing](/quick%20start/pandas-data-selection.html){: .post__link}\n",
    "* [Pandas: Data Transformation](/quick%20start/pandas-data-transform-agg.html){: .post__link}"
   ]
  },
  {
   "cell_type": "markdown",
   "metadata": {},
   "source": [
    "---"
   ]
  },
  {
   "cell_type": "markdown",
   "metadata": {},
   "source": [
    "## Installing and Using Pandas   \n",
    "\n",
    "### Install from PyPI  \n",
    "Pandas can be installed via pip from [PyPI](https://pypi.org/project/pandas/){: .post__link} using:\n",
    "```python\n",
    "~$ pip install pandas\n",
    "```\n",
    "\n",
    "### Import Pandas\n",
    "Following the installation of Pandas it can be imported, typically Pandas in imported under the alias `pd`."
   ]
  },
  {
   "cell_type": "code",
   "execution_count": 1,
   "metadata": {},
   "outputs": [],
   "source": [
    "import pandas as pd"
   ]
  },
  {
   "cell_type": "markdown",
   "metadata": {},
   "source": [
    "---"
   ]
  },
  {
   "cell_type": "markdown",
   "metadata": {},
   "source": [
    "## Pandas Data Structures\n",
    "There are three basic fundamental Pandas data structures, `Series`, `DataFrame`, and `Index`. Pandas offers numerous useful tools, method, and functionality on top of these fundamental structures.\n",
    "* Series: 1D labeled homogeneously-typed array of indexed data\n",
    "* DataFrame: General 2D labeled, size-mutable tabular structure with potentially heterogeneously-typed columns\n",
    "* Index: Can be viewed as a *immutable array* or an *ordered set*\n",
    "\n",
    ">Conceptually it can be helpful to think of Pandas data structures as flexible containers of lower dimensional data (e.g. a DataFrame is a container for Series), and objects can be added to or removed from the containers.\n",
    "\n",
    "\n",
    "### Pandas Index\n",
    "A `Index` object is the basic object for storing axis (row and column) labels for all pandas object. The `Index` object is an immutable sequence.\n",
    "\n",
    "Both the `Series` and `DataFrame` objects contain an explicit index which can be utilized to reference and modify the data that higher level objects contain.\n",
    "\n",
    "The general syntax for constructing a `Index` is <br>\n",
    "`>>> pd.Index(data=None, dtype=None, copy=False, name=None, tupleize_cols=True, **kwargs)`\n",
    "\n",
    "**Parameters:**\n",
    "* data: array-like (1D)\n",
    " * Can contain a `Series`, arrays, constants, dataclass or list-like objects\n",
    "* dtype: NumPy dtype, default of object\n",
    "  * If dtype is None pandas identifies the best fit and when a dtype is provide pandas coerces to the specified dtype\n",
    "* copy: boolean value to copy input data\n",
    "* name: name to be stored in the index\n",
    "* tupleize_col: boolean value, when `True` pandas attempts to create a multi-index\n",
    "\n",
    "Construct an `Index` object of integers\n"
   ]
  },
  {
   "cell_type": "code",
   "execution_count": 2,
   "metadata": {},
   "outputs": [
    {
     "data": {
      "text/plain": [
       "Int64Index([1, 3, 5, 7, 9], dtype='int64')"
      ]
     },
     "execution_count": 2,
     "metadata": {},
     "output_type": "execute_result"
    }
   ],
   "source": [
    "index = pd.Index([1, 3, 5, 7, 9])\n",
    "index"
   ]
  },
  {
   "cell_type": "markdown",
   "metadata": {},
   "source": [
    "Values of an `Index` object can be selected using standard Python indexing notation"
   ]
  },
  {
   "cell_type": "code",
   "execution_count": 3,
   "metadata": {},
   "outputs": [
    {
     "data": {
      "text/plain": [
       "7"
      ]
     },
     "execution_count": 3,
     "metadata": {},
     "output_type": "execute_result"
    }
   ],
   "source": [
    "index[3]"
   ]
  },
  {
   "cell_type": "code",
   "execution_count": 4,
   "metadata": {},
   "outputs": [
    {
     "data": {
      "text/plain": [
       "Int64Index([1, 3, 5, 7], dtype='int64')"
      ]
     },
     "execution_count": 4,
     "metadata": {},
     "output_type": "execute_result"
    }
   ],
   "source": [
    "index[:4]"
   ]
  },
  {
   "cell_type": "markdown",
   "metadata": {},
   "source": [
    "`Index` objects are immutable, meaning the values cannot be modified"
   ]
  },
  {
   "cell_type": "code",
   "execution_count": 5,
   "metadata": {},
   "outputs": [
    {
     "ename": "TypeError",
     "evalue": "Index does not support mutable operations",
     "output_type": "error",
     "traceback": [
      "\u001b[0;31m---------------------------------------------------------------------------\u001b[0m",
      "\u001b[0;31mTypeError\u001b[0m                                 Traceback (most recent call last)",
      "\u001b[0;32m/tmp/ipykernel_12114/2209125174.py\u001b[0m in \u001b[0;36m<module>\u001b[0;34m\u001b[0m\n\u001b[0;32m----> 1\u001b[0;31m \u001b[0mindex\u001b[0m\u001b[0;34m[\u001b[0m\u001b[0;36m3\u001b[0m\u001b[0;34m]\u001b[0m \u001b[0;34m=\u001b[0m \u001b[0;36m17\u001b[0m\u001b[0;34m\u001b[0m\u001b[0;34m\u001b[0m\u001b[0m\n\u001b[0m",
      "\u001b[0;32m~/.local/lib/python3.8/site-packages/pandas/core/indexes/base.py\u001b[0m in \u001b[0;36m__setitem__\u001b[0;34m(self, key, value)\u001b[0m\n\u001b[1;32m   4583\u001b[0m     \u001b[0;34m@\u001b[0m\u001b[0mfinal\u001b[0m\u001b[0;34m\u001b[0m\u001b[0;34m\u001b[0m\u001b[0m\n\u001b[1;32m   4584\u001b[0m     \u001b[0;32mdef\u001b[0m \u001b[0m__setitem__\u001b[0m\u001b[0;34m(\u001b[0m\u001b[0mself\u001b[0m\u001b[0;34m,\u001b[0m \u001b[0mkey\u001b[0m\u001b[0;34m,\u001b[0m \u001b[0mvalue\u001b[0m\u001b[0;34m)\u001b[0m\u001b[0;34m:\u001b[0m\u001b[0;34m\u001b[0m\u001b[0;34m\u001b[0m\u001b[0m\n\u001b[0;32m-> 4585\u001b[0;31m         \u001b[0;32mraise\u001b[0m \u001b[0mTypeError\u001b[0m\u001b[0;34m(\u001b[0m\u001b[0;34m\"Index does not support mutable operations\"\u001b[0m\u001b[0;34m)\u001b[0m\u001b[0;34m\u001b[0m\u001b[0;34m\u001b[0m\u001b[0m\n\u001b[0m\u001b[1;32m   4586\u001b[0m \u001b[0;34m\u001b[0m\u001b[0m\n\u001b[1;32m   4587\u001b[0m     \u001b[0;32mdef\u001b[0m \u001b[0m__getitem__\u001b[0m\u001b[0;34m(\u001b[0m\u001b[0mself\u001b[0m\u001b[0;34m,\u001b[0m \u001b[0mkey\u001b[0m\u001b[0;34m)\u001b[0m\u001b[0;34m:\u001b[0m\u001b[0;34m\u001b[0m\u001b[0;34m\u001b[0m\u001b[0m\n",
      "\u001b[0;31mTypeError\u001b[0m: Index does not support mutable operations"
     ]
    }
   ],
   "source": [
    "index[3] = 17"
   ]
  },
  {
   "cell_type": "markdown",
   "metadata": {},
   "source": [
    "Pandas object are aimed at facilitating cross dataset operations (e.g. joins). The `Index` object aids in this by following typical conventions used by Python's built-in `set` data structure facilitating unions, intersections, differences, and other combinations to be computed in a familiar way."
   ]
  },
  {
   "cell_type": "code",
   "execution_count": 6,
   "metadata": {},
   "outputs": [
    {
     "data": {
      "text/plain": [
       "Index(['A', 'C'], dtype='object')"
      ]
     },
     "execution_count": 6,
     "metadata": {},
     "output_type": "execute_result"
    }
   ],
   "source": [
    "index_1 = pd.Index(['A', 'B', 'A', 'C', 'C'])\n",
    "index_2 = pd.Index(['E', 'A', 'C', 'F', 'G'])\n",
    "index_1.intersection(index_2)"
   ]
  },
  {
   "cell_type": "code",
   "execution_count": 7,
   "metadata": {},
   "outputs": [
    {
     "data": {
      "text/plain": [
       "Index(['A', 'A', 'B', 'C', 'C', 'E', 'F', 'G'], dtype='object')"
      ]
     },
     "execution_count": 7,
     "metadata": {},
     "output_type": "execute_result"
    }
   ],
   "source": [
    "index_1.union(index_2)"
   ]
  },
  {
   "cell_type": "code",
   "execution_count": 8,
   "metadata": {},
   "outputs": [
    {
     "data": {
      "text/plain": [
       "Index(['B', 'E', 'F', 'G'], dtype='object')"
      ]
     },
     "execution_count": 8,
     "metadata": {},
     "output_type": "execute_result"
    }
   ],
   "source": [
    "index_1.symmetric_difference(index_2)"
   ]
  },
  {
   "cell_type": "markdown",
   "metadata": {},
   "source": [
    "For more information on `Index` attributes (e.g. `.size`), methods (e.g. `.fillna()`), and examples visit [Pandas Documentation](https://pandas.pydata.org/docs/reference/api/pandas.DataFrame.html?highlight=dataframe#pandas.DataFrame){: .post__link}"
   ]
  },
  {
   "cell_type": "markdown",
   "metadata": {},
   "source": [
    "---"
   ]
  },
  {
   "cell_type": "markdown",
   "metadata": {},
   "source": [
    "### Pandas Series\n",
    "A `Series` object contains two main components, the sequence of indices and the sequences of values which can be accessed with the `.index` and `.values` attributes. A `Series` supports integer and label indexing and has a wide variety of methods for performing index based operations.\n",
    "\n",
    "The general syntax for constructing a `Series` is <br>\n",
    "`>>> pd.Series(data=None, index=None, dtype=None, name=None, copy=False)`\n",
    "\n",
    "**Parameters:**\n",
    "* data: array-like, iterable, dict or scalar value\n",
    " * The data that is stored in the series, if dict argument order is maintained\n",
    "* index: array-like or index (1d)\n",
    "  * Hashable values that must be the same length as *data*\n",
    "    * Will default to RangeIndex (0, 1, ..., n)\n",
    "    * If *data* is a dict-like and no index is provided the keys of the data will utilized for the index\n",
    "* dtype: data type of the output series, if not specified *data* will be used to infer dtype\n",
    "* copy: boolean value to copy input data\n",
    "\n",
    "A `Series` can be created from a list or an array"
   ]
  },
  {
   "cell_type": "code",
   "execution_count": 9,
   "metadata": {},
   "outputs": [
    {
     "data": {
      "text/plain": [
       "0    0.0\n",
       "1    0.2\n",
       "2    0.4\n",
       "3    0.6\n",
       "4    0.8\n",
       "5    1.0\n",
       "dtype: float64"
      ]
     },
     "execution_count": 9,
     "metadata": {},
     "output_type": "execute_result"
    }
   ],
   "source": [
    "data_series = pd.Series([0.0, 0.2, 0.4, 0.6, 0.8, 1.0])\n",
    "data_series"
   ]
  },
  {
   "cell_type": "code",
   "execution_count": 10,
   "metadata": {},
   "outputs": [
    {
     "data": {
      "text/plain": [
       "RangeIndex(start=0, stop=6, step=1)"
      ]
     },
     "execution_count": 10,
     "metadata": {},
     "output_type": "execute_result"
    }
   ],
   "source": [
    "data_series.index"
   ]
  },
  {
   "cell_type": "code",
   "execution_count": 11,
   "metadata": {},
   "outputs": [
    {
     "data": {
      "text/plain": [
       "array([0. , 0.2, 0.4, 0.6, 0.8, 1. ])"
      ]
     },
     "execution_count": 11,
     "metadata": {},
     "output_type": "execute_result"
    }
   ],
   "source": [
    "data_series.values"
   ]
  },
  {
   "cell_type": "markdown",
   "metadata": {},
   "source": [
    "The elements of a `Series` can be accessed using the common square bracket `[ ]` notation. For more details see: [Data Subsetting - Pandas](/quick%20start/pandas-data-selection.html){: .post__link}"
   ]
  },
  {
   "cell_type": "code",
   "execution_count": 12,
   "metadata": {},
   "outputs": [
    {
     "data": {
      "text/plain": [
       "0.2"
      ]
     },
     "execution_count": 12,
     "metadata": {},
     "output_type": "execute_result"
    }
   ],
   "source": [
    "data_series[1]"
   ]
  },
  {
   "cell_type": "code",
   "execution_count": 13,
   "metadata": {},
   "outputs": [
    {
     "data": {
      "text/plain": [
       "2    0.4\n",
       "3    0.6\n",
       "dtype: float64"
      ]
     },
     "execution_count": 13,
     "metadata": {},
     "output_type": "execute_result"
    }
   ],
   "source": [
    "data_series[2:4]"
   ]
  },
  {
   "cell_type": "markdown",
   "metadata": {},
   "source": [
    "The pandas `Series` object has an explicitly defined index for each element of the series. This index does not have to be an integer and does not need to be contiguous or sequential. The explicitly defined index functionality provide flexibility and is a major difference between a NumPy array (implicit index) and a pandas `Series` (explicit index). "
   ]
  },
  {
   "cell_type": "code",
   "execution_count": 15,
   "metadata": {},
   "outputs": [
    {
     "data": {
      "text/plain": [
       "A    0.0\n",
       "B    0.2\n",
       "C    0.4\n",
       "D    0.6\n",
       "E    0.8\n",
       "F    1.0\n",
       "dtype: float64"
      ]
     },
     "execution_count": 15,
     "metadata": {},
     "output_type": "execute_result"
    }
   ],
   "source": [
    "data_series = pd.Series([0.0, 0.2, 0.4, 0.6, 0.8, 1.0], \n",
    "                        index=['A', 'B', 'C', 'D', 'E', 'F'])\n",
    "data_series"
   ]
  },
  {
   "cell_type": "code",
   "execution_count": 16,
   "metadata": {},
   "outputs": [
    {
     "data": {
      "text/plain": [
       "C    0.4\n",
       "D    0.6\n",
       "E    0.8\n",
       "dtype: float64"
      ]
     },
     "execution_count": 16,
     "metadata": {},
     "output_type": "execute_result"
    }
   ],
   "source": [
    "data_series['C':'E']"
   ]
  },
  {
   "cell_type": "code",
   "execution_count": 17,
   "metadata": {},
   "outputs": [
    {
     "data": {
      "text/plain": [
       "0     0.0\n",
       "2     0.2\n",
       "4     0.4\n",
       "6     0.6\n",
       "8     0.8\n",
       "10    1.0\n",
       "dtype: float64"
      ]
     },
     "execution_count": 17,
     "metadata": {},
     "output_type": "execute_result"
    }
   ],
   "source": [
    "data_series = pd.Series([0.0, 0.2, 0.4, 0.6, 0.8, 1.0], \n",
    "                        index=[0, 2, 4, 6, 8, 10])\n",
    "data_series"
   ]
  },
  {
   "cell_type": "markdown",
   "metadata": {},
   "source": [
    "The explicit index of the `Series` provides similarities to a dictionary data structure, where typed keys are mapped to typed values. A Pandas `Series` can be created from a Python dictionary, by default the index will be constructed from the dictionary's sorted keys. Similar to a dictionary, the selection of an element can be done using square bracket `[ ]` notation, however unlike a dictionary the `Series` supports slicing operations."
   ]
  },
  {
   "cell_type": "code",
   "execution_count": 19,
   "metadata": {},
   "outputs": [
    {
     "data": {
      "text/plain": [
       "Alaska             Juneau\n",
       "Arizona           Phoenix\n",
       "Arkansas      Little Rock\n",
       "California     Sacramento\n",
       "dtype: object"
      ]
     },
     "execution_count": 19,
     "metadata": {},
     "output_type": "execute_result"
    }
   ],
   "source": [
    "capitals_dict = {'Alaska': 'Juneau',\n",
    "\t\t     'Arizona': 'Phoenix',\n",
    "\t\t     'Arkansas': 'Little Rock',\n",
    "\t\t     'California': 'Sacramento'}\n",
    "capitals = pd.Series(capitals_dict)\n",
    "capitals"
   ]
  },
  {
   "cell_type": "code",
   "execution_count": 20,
   "metadata": {},
   "outputs": [
    {
     "data": {
      "text/plain": [
       "'Little Rock'"
      ]
     },
     "execution_count": 20,
     "metadata": {},
     "output_type": "execute_result"
    }
   ],
   "source": [
    "capitals['Arkansas']"
   ]
  },
  {
   "cell_type": "code",
   "execution_count": 21,
   "metadata": {},
   "outputs": [
    {
     "data": {
      "text/plain": [
       "Alaska           Juneau\n",
       "Arizona         Phoenix\n",
       "Arkansas    Little Rock\n",
       "dtype: object"
      ]
     },
     "execution_count": 21,
     "metadata": {},
     "output_type": "execute_result"
    }
   ],
   "source": [
    "capitals['Alaska':'Arkansas']"
   ]
  },
  {
   "cell_type": "markdown",
   "metadata": {},
   "source": [
    "For more information on `Series` attributes (e.g. `.index`), methods (e.g. `.count()`), and examples visit [Pandas Documentation](https://pandas.pydata.org/docs/reference/api/pandas.Series.html?highlight=series#pandas.Series){: .post__link}"
   ]
  },
  {
   "cell_type": "markdown",
   "metadata": {},
   "source": [
    "---"
   ]
  },
  {
   "cell_type": "markdown",
   "metadata": {},
   "source": [
    "### Pandas DataFrame\n",
    "A `DataFrame` is a two-dimensional, size-mutable, tabular data object. The `DataFrame` is essentially a dictionary-like container for a `Series` which contains labeled rows and columns\n",
    ">Conceptually a `DataFrame` is a sequence of `Series` objects which share the same index.\n",
    "\n",
    "The general syntax for constructing a `DataFrame` is <br>\n",
    "`>>> pd.DataFrame(data=None, index=None, columns=None, dtype=None, copy=False)`\n",
    "\n",
    "**Parameters:**\n",
    "* data: ndarray, iterable, dict or DataFrame\n",
    "  * Can contain a `Series`, arrays, constants, dataclass or list-like objects\n",
    "* index: array-like or index \n",
    "  * Will default to RangeIndex if there is not index information in the input data and no index is provided\n",
    "* columns: labels used in the resulting `DataFrame` which defaults to RangeIndex (0, 1, ..., n)\n",
    "* dtype: data type of the output, only a single dtype is allowed\n",
    "* copy: boolean value to copy input data\n",
    "\n",
    "Creating a `DataFrame` from two `Series`"
   ]
  },
  {
   "cell_type": "code",
   "execution_count": 22,
   "metadata": {},
   "outputs": [
    {
     "data": {
      "text/plain": [
       "Alaska             Juneau\n",
       "Arizona           Phoenix\n",
       "Arkansas      Little Rock\n",
       "California     Sacramento\n",
       "dtype: object"
      ]
     },
     "execution_count": 22,
     "metadata": {},
     "output_type": "execute_result"
    }
   ],
   "source": [
    "capitals_dict = {'Alaska': 'Juneau',\n",
    "\t\t     'Arizona': 'Phoenix',\n",
    "\t\t     'Arkansas': 'Little Rock',\n",
    "\t\t     'California': 'Sacramento'}\n",
    "capitals = pd.Series(capitals_dict)\n",
    "capitals"
   ]
  },
  {
   "cell_type": "code",
   "execution_count": 23,
   "metadata": {},
   "outputs": [
    {
     "data": {
      "text/plain": [
       "Alaska          31275\n",
       "Arizona       1608139\n",
       "Arkansas       202591\n",
       "California     524943\n",
       "dtype: int64"
      ]
     },
     "execution_count": 23,
     "metadata": {},
     "output_type": "execute_result"
    }
   ],
   "source": [
    "pop_dict = {'Alaska': 31275, 'Arizona': 1608139, 'Arkansas': 202591, 'California':524943}\n",
    "cap_pop = pd.Series(pop_dict)\n",
    "cap_pop"
   ]
  },
  {
   "cell_type": "code",
   "execution_count": 24,
   "metadata": {},
   "outputs": [
    {
     "data": {
      "text/html": [
       "<div>\n",
       "<style scoped>\n",
       "    .dataframe tbody tr th:only-of-type {\n",
       "        vertical-align: middle;\n",
       "    }\n",
       "\n",
       "    .dataframe tbody tr th {\n",
       "        vertical-align: top;\n",
       "    }\n",
       "\n",
       "    .dataframe thead th {\n",
       "        text-align: right;\n",
       "    }\n",
       "</style>\n",
       "<table border=\"1\" class=\"dataframe\">\n",
       "  <thead>\n",
       "    <tr style=\"text-align: right;\">\n",
       "      <th></th>\n",
       "      <th>Name</th>\n",
       "      <th>Population</th>\n",
       "    </tr>\n",
       "  </thead>\n",
       "  <tbody>\n",
       "    <tr>\n",
       "      <th>Alaska</th>\n",
       "      <td>Juneau</td>\n",
       "      <td>31275</td>\n",
       "    </tr>\n",
       "    <tr>\n",
       "      <th>Arizona</th>\n",
       "      <td>Phoenix</td>\n",
       "      <td>1608139</td>\n",
       "    </tr>\n",
       "    <tr>\n",
       "      <th>Arkansas</th>\n",
       "      <td>Little Rock</td>\n",
       "      <td>202591</td>\n",
       "    </tr>\n",
       "    <tr>\n",
       "      <th>California</th>\n",
       "      <td>Sacramento</td>\n",
       "      <td>524943</td>\n",
       "    </tr>\n",
       "  </tbody>\n",
       "</table>\n",
       "</div>"
      ],
      "text/plain": [
       "                   Name  Population\n",
       "Alaska           Juneau       31275\n",
       "Arizona         Phoenix     1608139\n",
       "Arkansas    Little Rock      202591\n",
       "California   Sacramento      524943"
      ]
     },
     "execution_count": 24,
     "metadata": {},
     "output_type": "execute_result"
    }
   ],
   "source": [
    "capital_info = pd.DataFrame({'Name':capitals, 'Population':cap_pop})\n",
    "capital_info"
   ]
  },
  {
   "cell_type": "markdown",
   "metadata": {},
   "source": [
    "Similar to the `Series` object the `DataFrame` has index and values attribute and also columns attribute. The columns attribute is an Index object which contains the column names."
   ]
  },
  {
   "cell_type": "code",
   "execution_count": 25,
   "metadata": {},
   "outputs": [
    {
     "data": {
      "text/plain": [
       "Index(['Alaska', 'Arizona', 'Arkansas', 'California'], dtype='object')"
      ]
     },
     "execution_count": 25,
     "metadata": {},
     "output_type": "execute_result"
    }
   ],
   "source": [
    "capital_info.index"
   ]
  },
  {
   "cell_type": "code",
   "execution_count": 26,
   "metadata": {},
   "outputs": [
    {
     "data": {
      "text/plain": [
       "array([['Juneau', 31275],\n",
       "       ['Phoenix', 1608139],\n",
       "       ['Little Rock', 202591],\n",
       "       ['Sacramento', 524943]], dtype=object)"
      ]
     },
     "execution_count": 26,
     "metadata": {},
     "output_type": "execute_result"
    }
   ],
   "source": [
    "capital_info.values"
   ]
  },
  {
   "cell_type": "code",
   "execution_count": 28,
   "metadata": {},
   "outputs": [
    {
     "data": {
      "text/plain": [
       "Index(['Name', 'Population'], dtype='object')"
      ]
     },
     "execution_count": 28,
     "metadata": {},
     "output_type": "execute_result"
    }
   ],
   "source": [
    "capital_info.columns"
   ]
  },
  {
   "cell_type": "markdown",
   "metadata": {},
   "source": [
    "A `DataFrame` can also be constructed from a list of dictionary objects"
   ]
  },
  {
   "cell_type": "code",
   "execution_count": 29,
   "metadata": {},
   "outputs": [
    {
     "data": {
      "text/html": [
       "<div>\n",
       "<style scoped>\n",
       "    .dataframe tbody tr th:only-of-type {\n",
       "        vertical-align: middle;\n",
       "    }\n",
       "\n",
       "    .dataframe tbody tr th {\n",
       "        vertical-align: top;\n",
       "    }\n",
       "\n",
       "    .dataframe thead th {\n",
       "        text-align: right;\n",
       "    }\n",
       "</style>\n",
       "<table border=\"1\" class=\"dataframe\">\n",
       "  <thead>\n",
       "    <tr style=\"text-align: right;\">\n",
       "      <th></th>\n",
       "      <th>Capital Name</th>\n",
       "      <th>Capital Population</th>\n",
       "    </tr>\n",
       "  </thead>\n",
       "  <tbody>\n",
       "    <tr>\n",
       "      <th>Alaska</th>\n",
       "      <td>Juneau</td>\n",
       "      <td>31275</td>\n",
       "    </tr>\n",
       "    <tr>\n",
       "      <th>Arizona</th>\n",
       "      <td>Phoenix</td>\n",
       "      <td>1608139</td>\n",
       "    </tr>\n",
       "    <tr>\n",
       "      <th>Arkansas</th>\n",
       "      <td>Little Rock</td>\n",
       "      <td>202591</td>\n",
       "    </tr>\n",
       "    <tr>\n",
       "      <th>California</th>\n",
       "      <td>Sacramento</td>\n",
       "      <td>524943</td>\n",
       "    </tr>\n",
       "  </tbody>\n",
       "</table>\n",
       "</div>"
      ],
      "text/plain": [
       "           Capital Name  Capital Population\n",
       "Alaska           Juneau               31275\n",
       "Arizona         Phoenix             1608139\n",
       "Arkansas    Little Rock              202591\n",
       "California   Sacramento              524943"
      ]
     },
     "execution_count": 29,
     "metadata": {},
     "output_type": "execute_result"
    }
   ],
   "source": [
    "AK = {'Capital Name': 'Juneau', 'Capital Population': 31275}\n",
    "AZ = {'Capital Name': 'Phoenix', 'Capital Population': 1608139}\n",
    "AR = {'Capital Name': 'Little Rock', 'Capital Population': 202591}\n",
    "CA = {'Capital Name': 'Sacramento', 'Capital Population': 524943}\n",
    "df_capital_info = pd.DataFrame([AK, AZ, AR, CA], index=['Alaska', 'Arizona', 'Arkansas', 'California'])\n",
    "df_capital_info"
   ]
  },
  {
   "cell_type": "markdown",
   "metadata": {},
   "source": [
    "A `DataFrame` can be thought of as a specialized dictionary where the `DataFrame` maps a column name (key) to a `Series` of columnar data (value). Using the `capital_info` DataFrame the selection of Population returns the `Series` object which contain the column of Population Data."
   ]
  },
  {
   "cell_type": "code",
   "execution_count": 30,
   "metadata": {},
   "outputs": [
    {
     "data": {
      "text/plain": [
       "Alaska          31275\n",
       "Arizona       1608139\n",
       "Arkansas       202591\n",
       "California     524943\n",
       "Name: Population, dtype: int64"
      ]
     },
     "execution_count": 30,
     "metadata": {},
     "output_type": "execute_result"
    }
   ],
   "source": [
    "capital_info['Population']"
   ]
  },
  {
   "cell_type": "markdown",
   "metadata": {},
   "source": [
    "For more information on `DataFrame` attributes (e.g. `.index`), methods (e.g. `.count()`), and examples visit [Pandas Documentation](https://pandas.pydata.org/docs/reference/api/pandas.DataFrame.html?highlight=dataframe#pandas.DataFrame){: .post__link}"
   ]
  },
  {
   "cell_type": "markdown",
   "metadata": {},
   "source": [
    "---"
   ]
  },
  {
   "cell_type": "markdown",
   "metadata": {},
   "source": [
    "## Summary\n",
    "Pandas offers a powerful and flexible data analytics tool which excels at the various stages of a data science project including data cleaning, data modeling, data analysis, and formatting of final results for visualizations. The pandas library offers three fundamental data structures: `Index`, `Series`, and `DataFrame`. Each of these data structures come with numerous tools, attributes, and methods. In general the pandas data structures can be thought of as flexible containers of lower dimensional data that allow for objects to be added to or removed from the container. \n",
    "\n",
    "More details and examples can be found in the [Pandas Documentation](https://pandas.pydata.org/docs/index.html){: .post__link} or for more information on subsetting of `Series` and `DataFrames`, data transformation tools, and exploratory analysis with pandas please visit the articles below:\n",
    "\n",
    "* [Pandas: Indexing and Slicing](/quick%20start/pandas-data-selection.html){: .post__link}\n",
    "* [Pandas: Data Transformation](/quick%20start/pandas-data-transform-agg.html){: .post__link}"
   ]
  },
  {
   "cell_type": "markdown",
   "metadata": {},
   "source": [
    "If you enjoy what you read and find it helpful please check back, and check back often, click here [Medium](https://medium.com/@emguyant) and follow me while giving a clap to the article! Also don't forget to subscribe to the Inquisitive Nature publication."
   ]
  }
 ],
 "metadata": {
  "kernelspec": {
   "display_name": "Python 3 (ipykernel)",
   "language": "python",
   "name": "python3"
  },
  "language_info": {
   "codemirror_mode": {
    "name": "ipython",
    "version": 3
   },
   "file_extension": ".py",
   "mimetype": "text/x-python",
   "name": "python",
   "nbconvert_exporter": "python",
   "pygments_lexer": "ipython3",
   "version": "3.8.10"
  },
  "vscode": {
   "interpreter": {
    "hash": "31f2aee4e71d21fbe5cf8b01ff0e069b9275f58929596ceb00d14d90e3e16cd6"
   }
  }
 },
 "nbformat": 4,
 "nbformat_minor": 2
}
