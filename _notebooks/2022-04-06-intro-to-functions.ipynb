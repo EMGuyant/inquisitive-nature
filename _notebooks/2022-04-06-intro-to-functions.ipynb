{
 "cells": [
  {
   "cell_type": "markdown",
   "metadata": {},
   "source": [
    "## Contents\n",
    "* [Naming and Syntax](#naming-and-syntax)\n",
    "* [General Notes](#general-notes)\n",
    "  * [Pass by Assignment](#pass-by-assignment)\n",
    "* [Inclusion of Docstrings](#inclusion-of-docstrings)\n",
    "* [Scope](#scope)\n",
    "* [Function Arguments](#positional-keyword-and-default-arguments)\n",
    "  * [Positional Arguments](#positional-arguments)\n",
    "  * [Keyword Arguments](#keyword-arguments)\n",
    "  * [Default Arguments](#default-arguments)\n",
    "* [Flexible Arguments](#flexible-arguments)\n",
    "* [Functions are Object](#functions-are-objects)\n",
    "* [Anonymous lambda Functions](#anonymous-lambda-functions)\n",
    "* [Generator Functions](#generator-functions)\n",
    "* [Closures](#closures)\n",
    "* [Decorators](#decorators)\n",
    "  * [Function Metadata](#function-metadata)\n",
    "  * [Decorators with Arguments](#decorators-with-arguments)\n",
    "* [Exceptions](#exceptions)"
   ]
  },
  {
   "cell_type": "markdown",
   "metadata": {},
   "source": [
    "---"
   ]
  },
  {
   "cell_type": "markdown",
   "metadata": {},
   "source": [
    "## Naming and Syntax\n",
    "A user defined function begins with the reserved keyword `def` followed by parentheses which inclose input parameters to the function and lastly a colon (`:`). Naming of these user-defined functions follow the same rules as the naming of variables. Including the name must not be a reserved keyword (e.g. `def`), must start with a letter or underscore, etc., as well as typically following certain conventions (e.g. lowercase_words_separated_with_underscores). For more details see [PEP 8 - Naming Conventions](https://www.python.org/dev/peps/pep-0008/#function-and-variable-names). The function body (i.e. all function statements) must be indented."
   ]
  },
  {
   "cell_type": "markdown",
   "metadata": {},
   "source": [
    "---"
   ]
  },
  {
   "cell_type": "markdown",
   "metadata": {},
   "source": [
    "## General Notes\n",
    "### DRY (Don't Repeat Yourself) & Do One Thing\n",
    "* When repeated code is identified it commonly indicates that a function should be utilized\n",
    "* Each function should complete a single task\n",
    "  * Large complex functions should typically be broken up into multiple smaller functions\n",
    "  * Advantages:\n",
    "    * Code will become more flexible\n",
    "    * Easier to read and understand\n",
    "    * Simplified debugging\n",
    "    * Allow for easier updates\n",
    "    \n",
    "### Pass by Assignment\n",
    "Also referred to by pass by object or pass by object reference. Information is passed to the function using 'pass by assignment'. See the below examples to better understand this."
   ]
  },
  {
   "cell_type": "code",
   "execution_count": 11,
   "metadata": {},
   "outputs": [],
   "source": [
    "a = [1, 2, 3]\n",
    "b = a"
   ]
  },
  {
   "cell_type": "markdown",
   "metadata": {},
   "source": [
    "At this point both `a` and `b` point to the same object or location in memory"
   ]
  },
  {
   "cell_type": "code",
   "execution_count": 12,
   "metadata": {},
   "outputs": [
    {
     "data": {
      "text/plain": [
       "True"
      ]
     },
     "execution_count": 12,
     "metadata": {},
     "output_type": "execute_result"
    }
   ],
   "source": [
    "b is a"
   ]
  },
  {
   "cell_type": "markdown",
   "metadata": {},
   "source": [
    "Since a list is a mutable object what happens to `b` will also happen to `a`"
   ]
  },
  {
   "cell_type": "code",
   "execution_count": 13,
   "metadata": {},
   "outputs": [
    {
     "name": "stdout",
     "output_type": "stream",
     "text": [
      "[1, 2, 3, 4]\n"
     ]
    }
   ],
   "source": [
    "a.append(4)\n",
    "print(b)"
   ]
  },
  {
   "cell_type": "code",
   "execution_count": 14,
   "metadata": {},
   "outputs": [
    {
     "name": "stdout",
     "output_type": "stream",
     "text": [
      "[1, 2, 3, 4, 5]\n"
     ]
    }
   ],
   "source": [
    "b.append(5)\n",
    "print(a)"
   ]
  },
  {
   "cell_type": "markdown",
   "metadata": {},
   "source": [
    "However if `a` is changed to a different object in memory, this does not change what object in memory `b` is pointing to. After this things that happen to `a` will no longer happen to `b`"
   ]
  },
  {
   "cell_type": "code",
   "execution_count": 15,
   "metadata": {},
   "outputs": [
    {
     "name": "stdout",
     "output_type": "stream",
     "text": [
      "25\n",
      "[1, 2, 3, 4, 5]\n"
     ]
    }
   ],
   "source": [
    "a = 20\n",
    "a = a + 5\n",
    "print(a)\n",
    "print(b)"
   ]
  },
  {
   "cell_type": "markdown",
   "metadata": {},
   "source": [
    "The above behavior of appending a value to the list `a` effecting the list `b` is due to a list being a mutable object. This behavior is not seen if `a` and `b` are assigned to a immutable object."
   ]
  },
  {
   "cell_type": "code",
   "execution_count": 16,
   "metadata": {},
   "outputs": [
    {
     "data": {
      "text/plain": [
       "True"
      ]
     },
     "execution_count": 16,
     "metadata": {},
     "output_type": "execute_result"
    }
   ],
   "source": [
    "a = 20\n",
    "b = a\n",
    "b is a"
   ]
  },
  {
   "cell_type": "code",
   "execution_count": 17,
   "metadata": {},
   "outputs": [
    {
     "name": "stdout",
     "output_type": "stream",
     "text": [
      "b: 25\n",
      "a: 20\n"
     ]
    }
   ],
   "source": [
    "b = b + 5\n",
    "print('b: ' + str(b))\n",
    "print('a: ' + str(a))"
   ]
  },
  {
   "cell_type": "markdown",
   "metadata": {},
   "source": [
    "This is because `b = b + 5` assigns `b` to a different object in memory due to a `int` object being immutable. Immutable and mutable types are listed below:\n",
    "* Immutable\n",
    "  * int, float, bool, string, bytes, tuples, None\n",
    "* Mutable\n",
    "  * list, dict, set, bytearray, objects, functions, many other things\n",
    "  \n",
    "Due to this behavior mutable default arguments to a function should be avoided.\n",
    "  * If a default mutable variable is required, defaulting to a value of `None` should be used and the variable can then be set within the function\n",
    "    * More details below in the [Default Arguments](#default-arguments) section."
   ]
  },
  {
   "cell_type": "code",
   "execution_count": 18,
   "metadata": {},
   "outputs": [
    {
     "name": "stdout",
     "output_type": "stream",
     "text": [
      "['first call']\n"
     ]
    }
   ],
   "source": [
    "def broken_function(arg, var=[]):\n",
    "    var.append(arg)\n",
    "    print(var)\n",
    "\n",
    "broken_function('first call')"
   ]
  },
  {
   "cell_type": "markdown",
   "metadata": {},
   "source": [
    "Calling the function a single time returns the expected result. However, calling the function again shows the default value of `var` has been modified by the first call to the function"
   ]
  },
  {
   "cell_type": "code",
   "execution_count": 19,
   "metadata": {},
   "outputs": [
    {
     "name": "stdout",
     "output_type": "stream",
     "text": [
      "['first call', 'second call']\n"
     ]
    }
   ],
   "source": [
    "broken_function('second call')"
   ]
  },
  {
   "cell_type": "code",
   "execution_count": 21,
   "metadata": {},
   "outputs": [
    {
     "name": "stdout",
     "output_type": "stream",
     "text": [
      "['first call']\n"
     ]
    }
   ],
   "source": [
    "# Improve the function by setting the default argument to None\n",
    "def improved_function(arg, var=None):\n",
    "    if var is None:\n",
    "        var = []\n",
    "    var.append(arg)\n",
    "    print(var)\n",
    "\n",
    "improved_function('first call')"
   ]
  },
  {
   "cell_type": "code",
   "execution_count": 22,
   "metadata": {},
   "outputs": [
    {
     "name": "stdout",
     "output_type": "stream",
     "text": [
      "['second call']\n"
     ]
    }
   ],
   "source": [
    "improved_function('second call')"
   ]
  },
  {
   "cell_type": "markdown",
   "metadata": {},
   "source": [
    "---"
   ]
  },
  {
   "cell_type": "markdown",
   "metadata": {},
   "source": [
    "## Inclusion of Docstrings\n",
    "In addition to the required syntax described above it is typically best practice to include a function docstring directly following the line of code which defines the function (`def function_name():`). Docstrings are string literals typically enclosed by triple quotes (either `'''` or `\"\"\"`) and are used to document the function. Enclosing the docstring in triple quotes allows for the documentation to expand more than a single line.\n",
    "\n",
    "Helpful information to include in a docstring consists of:\n",
    "* What the function does\n",
    "* What the arguments of the function are\n",
    "* What should be returned by the function\n",
    "* Information regarding any errors the function may raise\n",
    "* Any other relevant information about the function \n",
    "\n",
    "**At minimum the docstring should include what the function does and what it returns**\n",
    "\n",
    "Docstrings should follow a consistent style. Two common styles include Google Style and Numpydoc style.\n",
    "\n",
    "### Google Style\n",
    "A Google Style docstring consists of:\n",
    "* A concise description of what the function does\n",
    "* An argument section if there are any arguments\n",
    "  * If a given argument has a default value include \"optional\" when describing this argument\n",
    "* A returns section that lists the expected type(s) of what the function returns\n",
    "* Followed by any errors raises and extra notes"
   ]
  },
  {
   "cell_type": "code",
   "execution_count": 27,
   "metadata": {},
   "outputs": [],
   "source": [
    "def function(arg_1, arg_2=42):\n",
    "  '''Description of what the function does.\n",
    "\n",
    "  Args:\n",
    "    arg_1 (str): Description of arg_1\n",
    "    arg_2 (int, optional): Write optional when an argument has a default value\n",
    "\n",
    "  Returns:\n",
    "    bool: Optional description of the returned value\n",
    "\n",
    "  Raises:\n",
    "    ValueError: Include any error types that the function intentionally raises\n",
    "\n",
    "  Notes:\n",
    "    Any additional notes about the function'''"
   ]
  },
  {
   "cell_type": "markdown",
   "metadata": {},
   "source": [
    "### Numpydoc Style\n",
    "Contains similar sections as the above described Google Style that is  formatted differently which can be easier to read, however tends to take up more vertical space"
   ]
  },
  {
   "cell_type": "code",
   "execution_count": 26,
   "metadata": {},
   "outputs": [],
   "source": [
    "def function(arg_1, arg_2=42):\n",
    "  '''\n",
    "  Description of what the function does.\n",
    "\n",
    "  Parameters\n",
    "  ----------\n",
    "  arg_1: str\n",
    "    Description of arg_1.\n",
    "  arg_2: int, optional\n",
    "    Description of arg_2.\n",
    "    Default=42\n",
    "  \n",
    "  Returns\n",
    "  -------\n",
    "  The type of the return value\n",
    "    Can include a description of the return value.\n",
    "    Replace \"Returns\" with \"Yields\" if the function is a generator\n",
    "  '''"
   ]
  },
  {
   "cell_type": "markdown",
   "metadata": {},
   "source": [
    "A function's docstring can be accessed with the `__doc__` attribute (unformatted docstring) or by calling the `help()` function and passing in the functions name (`help(function_name)`, which returns a formatted version of the docstring). For simple functions it may be more appropriate to have a simplified single line docstring in the form of \"Do something, Return something\". For more information see [PEP 257 - What is a Docstring](https://www.python.org/dev/peps/pep-0257/#what-is-a-docstring)\n",
    "\n",
    "Simplified Docstring"
   ]
  },
  {
   "cell_type": "code",
   "execution_count": 28,
   "metadata": {},
   "outputs": [],
   "source": [
    "def raise_to_power(value1, value2):\n",
    "    '''Raise value1 to the power of value2'''\n",
    "    new_value = value1 ** value2\n",
    "    return new_value"
   ]
  },
  {
   "cell_type": "markdown",
   "metadata": {},
   "source": [
    "Google Style Docstring\n"
   ]
  },
  {
   "cell_type": "code",
   "execution_count": 31,
   "metadata": {},
   "outputs": [
    {
     "data": {
      "text/plain": [
       "4"
      ]
     },
     "execution_count": 31,
     "metadata": {},
     "output_type": "execute_result"
    }
   ],
   "source": [
    "def count_letter(content, letter):\n",
    "    '''Count the number of times 'letter' appears in 'content'\n",
    "\n",
    "    Args:\n",
    "        content (str): The string to search.\n",
    "        letter (str): The letter to search for.\n",
    "\n",
    "    Returns:\n",
    "        int\n",
    "\n",
    "    Raises:\n",
    "            ValueError: If 'letter' is not a one-character string.\n",
    "    '''\n",
    "    \n",
    "    if (not isinstance(letter, str)) or len(letter) != 1:\n",
    "        raise ValueError('`letter` must be a signle character string.')\n",
    "    return len([char for char in content if char == letter])\n",
    "\n",
    "phrase = 'Every goal is possible from here'\n",
    "count_letter(phrase, 'e')"
   ]
  },
  {
   "cell_type": "markdown",
   "metadata": {},
   "source": [
    "Accessing a function's docstring with `.__doc__`"
   ]
  },
  {
   "cell_type": "code",
   "execution_count": 34,
   "metadata": {},
   "outputs": [
    {
     "data": {
      "text/plain": [
       "'Raise value1 to the power of value2'"
      ]
     },
     "execution_count": 34,
     "metadata": {},
     "output_type": "execute_result"
    }
   ],
   "source": [
    "raise_to_power.__doc__"
   ]
  },
  {
   "cell_type": "markdown",
   "metadata": {},
   "source": [
    "More complex docstrings can be challenging to read using `.__doc__`. To improve readability of a complex docstring use `help(<function_name>)`"
   ]
  },
  {
   "cell_type": "code",
   "execution_count": 35,
   "metadata": {},
   "outputs": [
    {
     "data": {
      "text/plain": [
       "\"Count the number of times 'letter' appears in 'content'\\n\\n    Args:\\n        content (str): The string to search.\\n        letter (str): The letter to search for.\\n\\n    Returns:\\n        int\\n\\n    Raises:\\n            ValueError: If 'letter' is not a one-character string.\\n    \""
      ]
     },
     "execution_count": 35,
     "metadata": {},
     "output_type": "execute_result"
    }
   ],
   "source": [
    "count_letter.__doc__"
   ]
  },
  {
   "cell_type": "code",
   "execution_count": 36,
   "metadata": {},
   "outputs": [
    {
     "name": "stdout",
     "output_type": "stream",
     "text": [
      "Help on function count_letter in module __main__:\n",
      "\n",
      "count_letter(content, letter)\n",
      "    Count the number of times 'letter' appears in 'content'\n",
      "    \n",
      "    Args:\n",
      "        content (str): The string to search.\n",
      "        letter (str): The letter to search for.\n",
      "    \n",
      "    Returns:\n",
      "        int\n",
      "    \n",
      "    Raises:\n",
      "            ValueError: If 'letter' is not a one-character string.\n",
      "\n"
     ]
    }
   ],
   "source": [
    "help(count_letter)"
   ]
  },
  {
   "cell_type": "markdown",
   "metadata": {},
   "source": [
    "## Scope\n",
    "There are different scopes that are present when running Python code.\n",
    "* Global Scope: Defined in the main body of a script\n",
    "* Local Scope: Defined inside of a function. Any parameter defined in a function only exists while the function executes\n",
    "* Built-in: Names of pre-defined built-in functions and modules\n",
    "\n",
    "In general scope determines which variables can be accessed in various parts of the code, and which variables can be accessed is determined by the following rules:\n",
    "1. The Python interpreter looks first in the local scope\n",
    "    * When within a function the local scope includes any arguments of, and variables defined, inside the function\n",
    "2. If the variable cannot be found within the local scope, the interpreter searches the non-local scope (i.e. the parent function when a nested function is present)\n",
    "3. If the variable cannot be found in the non-local scope, the interpreter searches the global scope (i.e. variables defined outside the function)\n",
    "4. If the variable cannot be found in the global scope, the interpreter searches the built-in scope. The built-in scope includes things that are always accessible (e.g. `print()`)\n",
    "\n",
    "When accessing a variable defined outside the current scope Python only grants read access\n",
    "* Given the following example, when `x` is set to 50 within `func()` Python assumes the desired action is to create a new variable within the local scope"
   ]
  },
  {
   "cell_type": "code",
   "execution_count": 41,
   "metadata": {},
   "outputs": [
    {
     "name": "stdout",
     "output_type": "stream",
     "text": [
      "10\n"
     ]
    }
   ],
   "source": [
    "x = 10\n",
    "def func():\n",
    "    x = 50\n",
    "\n",
    "print(x)"
   ]
  },
  {
   "cell_type": "code",
   "execution_count": 44,
   "metadata": {},
   "outputs": [
    {
     "name": "stdout",
     "output_type": "stream",
     "text": [
      "(1): global_scope\n",
      "(2): local_scope\n",
      "(3): global_scope\n"
     ]
    }
   ],
   "source": [
    "s = 'global_scope'\n",
    "def print_value():\n",
    "    s = 'local_scope'\n",
    "    return s\n",
    "\n",
    "# (1) Print the value of s (outside the function)\n",
    "print('(1): ' + s)\n",
    "# (2) Call the function which sets the value of s (inside the function)\n",
    "print('(2): ' + print_value())\n",
    "# (3) Print the value of s (outside the function) - The global `s` remains unchanged\n",
    "print('(3): ' + s)"
   ]
  },
  {
   "cell_type": "markdown",
   "metadata": {},
   "source": [
    "The second example above shows the following:   \n",
    "1. The global variable `s` is assigned the value `global_scope`\n",
    "2. Defines a function `print_value()` which assigns a local variable (or function parameter) `s` the value of `local_scope`\n",
    "3. Prints the value of `s` outside of the function `print_value()` so it prints the string `global_scope`\n",
    "4. Calls the function `print_value()`, which prints the value of the local variable `s`, `local_scope`\n",
    "5. Again prints the value of `s` outside of the function which shows the the global variable `s` remains unchanged because the second assignment (`s = 'local_scope'`) impacts the local scope but does not impact the enclosing global scope\n",
    "\n",
    "Rather, if the desired action is to change the value of `s` in the global scope (defined outside of the function) then this must be explicitly declared within the function using the keyword `global`\n",
    "  * Modifying global variables in this manner should be used with caution as it can make debugging more challenging\n",
    "  \n"
   ]
  },
  {
   "cell_type": "code",
   "execution_count": 45,
   "metadata": {},
   "outputs": [
    {
     "name": "stdout",
     "output_type": "stream",
     "text": [
      "(1): global_scope\n",
      "(2): updated_inside_function\n",
      "(3): updated_inside_function\n"
     ]
    }
   ],
   "source": [
    "s = 'global_scope'\n",
    "def print_value():\n",
    "    global s\n",
    "    s = 'updated_inside_function'\n",
    "    return s\n",
    "\n",
    "# (1) Print the value of s (outside the function)\n",
    "print('(1): ' + s)\n",
    "# (2) Call the function which sets the value of s (inside the function)\n",
    "print('(2): ' + print_value())\n",
    "# (3) Print the value of s (outside the function) \n",
    "print('(3): ' + s)"
   ]
  },
  {
   "cell_type": "markdown",
   "metadata": {},
   "source": [
    "Similarly, scopes must also be considered when nesting functions. To change the value of a variable in the non-local scope the `nonlocal` keyword must be used to modify the variable in the  enclosing scope."
   ]
  },
  {
   "cell_type": "code",
   "execution_count": 49,
   "metadata": {},
   "outputs": [
    {
     "name": "stdout",
     "output_type": "stream",
     "text": [
      "(1): 150\n",
      "(2): 15\n"
     ]
    }
   ],
   "source": [
    "def outer_function():\n",
    "    x = 15\n",
    "    def inner_function():\n",
    "        x = 150\n",
    "        return x\n",
    "    \n",
    "    # (1) call the inner function and print the value of x\n",
    "    print('(1): ' + str(inner_function()))\n",
    "    # (2) print the value of x within the outer function scope\n",
    "    print('(2): ' + str(x))\n",
    "\n",
    "outer_function()"
   ]
  },
  {
   "cell_type": "code",
   "execution_count": 50,
   "metadata": {},
   "outputs": [
    {
     "name": "stdout",
     "output_type": "stream",
     "text": [
      "(1): 150\n",
      "(2): 150\n"
     ]
    }
   ],
   "source": [
    "def outer_function():\n",
    "    x = 15\n",
    "    def inner_function():\n",
    "        nonlocal x\n",
    "        x = 150\n",
    "        return x\n",
    "    \n",
    "    # (1) call the inner function and print the value of x\n",
    "    print('(1): ' + str(inner_function()))\n",
    "    # (2) print the value of x within the outer function scope\n",
    "    print('(2): ' + str(x))\n",
    "\n",
    "outer_function()"
   ]
  },
  {
   "cell_type": "markdown",
   "metadata": {},
   "source": [
    "---"
   ]
  },
  {
   "cell_type": "markdown",
   "metadata": {},
   "source": [
    "## Positional, Keyword, and Default Arguments\n",
    "*Arguments* are the values passed to the function when it is called (`raise_to_power(3,2)`), `3` and `2` are the arguments passed to the function `raise_to_power`. The values of the arguments are copied to the corresponding *Parameters* (`value_1` and `value_2`) inside of the function.\n",
    "\n",
    "The `return` statement returns the value of `new_value` back to the caller of the function.\n",
    "\n",
    "Calling `raise_to_power` and passing in the values of `3` and `2` does the following:"
   ]
  },
  {
   "cell_type": "code",
   "execution_count": 54,
   "metadata": {},
   "outputs": [
    {
     "data": {
      "text/plain": [
       "9"
      ]
     },
     "execution_count": 54,
     "metadata": {},
     "output_type": "execute_result"
    }
   ],
   "source": [
    "def raise_to_power(value1, value2):\n",
    "    '''Raise value1 to the power of value2'''\n",
    "    new_value = value1 ** value2\n",
    "    return new_value\n",
    "\n",
    "three_squared = raise_to_power(3, 2)\n",
    "three_squared"
   ]
  },
  {
   "cell_type": "markdown",
   "metadata": {},
   "source": [
    "1) Assigns the value of `3` to the parameter `value_1` and `2` to the parameter `value_2` **inside** of the function.   \n",
    "2) Performs the calculation `3` raised (`**`) to the power of `2`   \n",
    "3) Returns the value `9` to the caller which then assigns it to the variable `three_squared`\n",
    "\n",
    "\n",
    "Python handles function arguments in flexible manner. The most common types include positional arguments, keyword arguments, and default arguments."
   ]
  },
  {
   "cell_type": "markdown",
   "metadata": {},
   "source": [
    "### Positional Arguments\n",
    "Positional argument values are copied to the function parameters in the order they are passed to the function."
   ]
  },
  {
   "cell_type": "code",
   "execution_count": 55,
   "metadata": {},
   "outputs": [
    {
     "data": {
      "text/plain": [
       "{'breakfast': 'toast', 'lunch': 'sandwich', 'dinner': 'tacos'}"
      ]
     },
     "execution_count": 55,
     "metadata": {},
     "output_type": "execute_result"
    }
   ],
   "source": [
    "def meals(breakfast, lunch, dinner):\n",
    "    '''Builds a dictionary from the positional arguments and returns the dictionary'''\n",
    "    return {'breakfast':breakfast, 'lunch':lunch, 'dinner':dinner}\n",
    "\n",
    "meals('toast', 'sandwich', 'tacos')"
   ]
  },
  {
   "cell_type": "markdown",
   "metadata": {},
   "source": [
    "Positional arguments are common, however carry the downside. Each time the function is called requires remembering the meaning and what value must go into what position. For example in the function above if `meals()` is called with tacos as the first argument the meals for the day would be very different."
   ]
  },
  {
   "cell_type": "code",
   "execution_count": 56,
   "metadata": {},
   "outputs": [
    {
     "data": {
      "text/plain": [
       "{'breakfast': 'tacos', 'lunch': 'sandwich', 'dinner': 'toast'}"
      ]
     },
     "execution_count": 56,
     "metadata": {},
     "output_type": "execute_result"
    }
   ],
   "source": [
    "meals('tacos', 'sandwich', 'toast')"
   ]
  },
  {
   "cell_type": "markdown",
   "metadata": {},
   "source": [
    "### Keyword Arguments\n",
    "To avoid the potential confusion noted above, arguments can be passed to the function by specifying the arguments by the name of their corresponding function parameters."
   ]
  },
  {
   "cell_type": "code",
   "execution_count": 57,
   "metadata": {},
   "outputs": [
    {
     "data": {
      "text/plain": [
       "{'breakfast': 'toast', 'lunch': 'sandwich', 'dinner': 'tacos'}"
      ]
     },
     "execution_count": 57,
     "metadata": {},
     "output_type": "execute_result"
    }
   ],
   "source": [
    "meals(dinner='tacos', breakfast='toast', lunch='sandwich')"
   ]
  },
  {
   "cell_type": "markdown",
   "metadata": {},
   "source": [
    "When using keyword arguments the arguments do not have to be passed to the function in the same order that the parameters are defined within the function. \n",
    "\n",
    "Additionally a function can be called using both positional and keyword arguments."
   ]
  },
  {
   "cell_type": "code",
   "execution_count": 58,
   "metadata": {},
   "outputs": [
    {
     "data": {
      "text/plain": [
       "{'breakfast': 'toast', 'lunch': 'sandwich', 'dinner': 'tacos'}"
      ]
     },
     "execution_count": 58,
     "metadata": {},
     "output_type": "execute_result"
    }
   ],
   "source": [
    "meals('toast', dinner='tacos', lunch='sandwich')"
   ]
  },
  {
   "cell_type": "markdown",
   "metadata": {},
   "source": [
    "When utilizing both positional and keyword arguments the positional arguments must come before the keyword arguments. Providing a positional argument after a keyword argument will result in a `SyntaxError`"
   ]
  },
  {
   "cell_type": "code",
   "execution_count": 59,
   "metadata": {},
   "outputs": [
    {
     "ename": "SyntaxError",
     "evalue": "positional argument follows keyword argument (4261814175.py, line 1)",
     "output_type": "error",
     "traceback": [
      "\u001b[0;36m  File \u001b[0;32m\"/tmp/ipykernel_5785/4261814175.py\"\u001b[0;36m, line \u001b[0;32m1\u001b[0m\n\u001b[0;31m    meals(breakfast='toast', 'sandwich', dinner='tacos')\u001b[0m\n\u001b[0m                             ^\u001b[0m\n\u001b[0;31mSyntaxError\u001b[0m\u001b[0;31m:\u001b[0m positional argument follows keyword argument\n"
     ]
    }
   ],
   "source": [
    "meals(breakfast='toast', 'sandwich', dinner='tacos')"
   ]
  },
  {
   "cell_type": "markdown",
   "metadata": {},
   "source": [
    "### Default Arguments\n",
    "Default values for parameters can be defined and the default value will be used if no corresponding argument was provided when calling the function. To set a default value follow the parameter of interest with an equals sign (`=`) and the default value."
   ]
  },
  {
   "cell_type": "code",
   "execution_count": 60,
   "metadata": {},
   "outputs": [
    {
     "data": {
      "text/plain": [
       "{'breakfast': 'toast', 'lunch': 'sandwich', 'dinner': 'tacos'}"
      ]
     },
     "execution_count": 60,
     "metadata": {},
     "output_type": "execute_result"
    }
   ],
   "source": [
    "def meals(breakfast, lunch, dinner='tacos'):\n",
    "    '''Builds a dictionary from the positional arguments and returns the dictionary'''\n",
    "    return {'breakfast': breakfast, 'lunch': lunch, 'dinner': dinner} \n",
    "\n",
    "meals('toast', 'sandwich')"
   ]
  },
  {
   "cell_type": "markdown",
   "metadata": {},
   "source": [
    ">**`Note #2:`**  When default arguments are defined they must follow non-default arguments "
   ]
  },
  {
   "cell_type": "code",
   "execution_count": 61,
   "metadata": {},
   "outputs": [
    {
     "ename": "SyntaxError",
     "evalue": "non-default argument follows default argument (443568823.py, line 1)",
     "output_type": "error",
     "traceback": [
      "\u001b[0;36m  File \u001b[0;32m\"/tmp/ipykernel_5785/443568823.py\"\u001b[0;36m, line \u001b[0;32m1\u001b[0m\n\u001b[0;31m    def meals(breakfast='toast', lunch, dinner):\u001b[0m\n\u001b[0m              ^\u001b[0m\n\u001b[0;31mSyntaxError\u001b[0m\u001b[0;31m:\u001b[0m non-default argument follows default argument\n"
     ]
    }
   ],
   "source": [
    "def meals(breakfast='toast', lunch, dinner):\n",
    "    '''Builds a dictionary from the positional arguments and returns the dictionary'''\n",
    "    return {'breakfast': breakfast, 'lunch': lunch, 'dinner': dinner} "
   ]
  },
  {
   "cell_type": "markdown",
   "metadata": {},
   "source": [
    ">**`Note #3:`** Default parameter values are calculated when the function is defined, not when the function is ran. This can result in the common error of using a mutable data type (e.g. list) as a default parameter, remember python uses pass by assignment as was noted above.\n",
    "\n",
    "To further demonstrate this, revisit the examples provided in the [Pass by Assignment](#pass-by-assignment) section. The expected behavior of `broken_function()` is that each time the function is called it runs with an empty list `var`, then appends the value of `arg` to this list, and prints the single-item list.\n",
    "\n",
    "However, it does not work as intended. The list `var` is only empty the first time `broken_function()` is called."
   ]
  },
  {
   "cell_type": "code",
   "execution_count": 62,
   "metadata": {},
   "outputs": [
    {
     "name": "stdout",
     "output_type": "stream",
     "text": [
      "['first call']\n",
      "['first call', 'second call']\n"
     ]
    }
   ],
   "source": [
    "def broken_function(arg, var=[]):\n",
    "\tvar.append(arg)\n",
    "\tprint(var)\n",
    "\n",
    "broken_function('first call')\n",
    "broken_function('second call')"
   ]
  },
  {
   "cell_type": "markdown",
   "metadata": {},
   "source": [
    "A solution to this problem is to set the default value of `var` to the immutable value `None` and setting the value of `var` to an empty list inside of the function."
   ]
  },
  {
   "cell_type": "code",
   "execution_count": 63,
   "metadata": {},
   "outputs": [
    {
     "name": "stdout",
     "output_type": "stream",
     "text": [
      "['fist call']\n",
      "['second call']\n"
     ]
    }
   ],
   "source": [
    "def improved_function(arg, var=None):\n",
    "\tif var is None:\n",
    "\t\tvar = []\n",
    "\tvar.append(arg)\n",
    "\tprint(var)\n",
    "\n",
    "improved_function('fist call')\n",
    "improved_function('second call')"
   ]
  },
  {
   "cell_type": "markdown",
   "metadata": {},
   "source": [
    ">**`Note #4:`** `None` is a special value in Python. `None` can be used as a placeholder when there is nothing and is not the same as the boolean value `False`. However when evaluated as a boolean it will appear false, but can be distinguished from `False` using the `is` operator.\n"
   ]
  },
  {
   "cell_type": "code",
   "execution_count": 65,
   "metadata": {},
   "outputs": [
    {
     "name": "stdout",
     "output_type": "stream",
     "text": [
      "var is something\n"
     ]
    }
   ],
   "source": [
    "var = None\n",
    "if var:\n",
    "    print('var is nothing')\n",
    "else:\n",
    "    print('var is something')"
   ]
  },
  {
   "cell_type": "code",
   "execution_count": 66,
   "metadata": {},
   "outputs": [
    {
     "name": "stdout",
     "output_type": "stream",
     "text": [
      "var is nothing\n"
     ]
    }
   ],
   "source": [
    "# Distinguish None and False\n",
    "if var is None:\n",
    "\tprint('var is nothing')\n",
    "else:\n",
    "\tprint('var is something')"
   ]
  },
  {
   "cell_type": "markdown",
   "metadata": {},
   "source": [
    ">**`Note #4.1:`** Zero-value integer or floats, empty strings (`''`), empty lists (`[]`), empty tuples(`()`), dictionaries (`{}`), and sets (`set()`) are all `False` when evaluated as a boolean but are not the same as `None`"
   ]
  },
  {
   "cell_type": "code",
   "execution_count": 67,
   "metadata": {},
   "outputs": [
    {
     "name": "stdout",
     "output_type": "stream",
     "text": [
      "None is None\n",
      "[] is False\n",
      "1 is True\n"
     ]
    }
   ],
   "source": [
    "def what_is_it(it):\n",
    "\tif it is None:\n",
    "\t\tprint(it, 'is None')\n",
    "\telif it:\n",
    "\t\tprint(it, 'is True')\n",
    "\telse:\n",
    "\t\tprint(it, 'is False')\n",
    "\n",
    "what_is_it(None)\n",
    "what_is_it([])\n",
    "what_is_it(1)"
   ]
  },
  {
   "cell_type": "markdown",
   "metadata": {},
   "source": [
    "## Flexible Arguments\n",
    "Flexible arguments allow a variable number of arguments to be passed to a function.\n",
    "\n",
    "### Positional Arguments `*`\n",
    "`*` groups all the arguments passed to a function into a tuple of parameter values. It is common practice to use `*args` for this purpose but `args` does not have to be used. The name `args` is not what is important, what is important is that it is preceded with a single asterisk ( `*` ). If the function has a mix of *required* positional arguments and flexible arguments, list the required arguments first and `*args` goes at the end."
   ]
  },
  {
   "cell_type": "code",
   "execution_count": 71,
   "metadata": {},
   "outputs": [
    {
     "name": "stdout",
     "output_type": "stream",
     "text": [
      "(1): 6\n",
      "(2): 30\n"
     ]
    }
   ],
   "source": [
    "def add_all(*args):\n",
    "\t'''Sums all the values in *args and returns the sum'''\n",
    "\n",
    "\tsum_all = 0\n",
    "\tfor number in args:\n",
    "\t\tsum_all += number\n",
    "\treturn sum_all\n",
    "\n",
    "# (1) Call add_all with two arguments\n",
    "print(f'(1): {add_all(1,5)}')\n",
    "# (2) Call add_all with three arguments\n",
    "print(f'(2): {add_all(5, 10, 15)}')"
   ]
  },
  {
   "cell_type": "markdown",
   "metadata": {},
   "source": [
    "### Keyword Arguments `**`\n",
    "`**` groups all the keyword arguments passed to a function into a dictionary, where the keys are the argument names and their values are the corresponding values in the dictionary. It is common practice to use `**kwargs` (keyword arguments) for this purpose but is not required, again what is important is the name is preceded by double asterisks ( `**` ) not the name itself."
   ]
  },
  {
   "cell_type": "code",
   "execution_count": 75,
   "metadata": {},
   "outputs": [
    {
     "name": "stdout",
     "output_type": "stream",
     "text": [
      "breakfast : toast\n",
      "lunch : sandwich\n"
     ]
    }
   ],
   "source": [
    "def print_all(**kwargs):\n",
    "    '''Prints the key value pairs of **kwargs'''\n",
    "\n",
    "    for key, value in kwargs.items():\n",
    "        print(key + ' : ' + value)\n",
    "\n",
    "# Call print_all with two keyword arguments\n",
    "print_all(breakfast='toast', lunch='sandwich')"
   ]
  },
  {
   "cell_type": "code",
   "execution_count": 76,
   "metadata": {},
   "outputs": [
    {
     "name": "stdout",
     "output_type": "stream",
     "text": [
      "breakfast : toast\n",
      "lunch : sandwich\n",
      "dinner : tacos\n"
     ]
    }
   ],
   "source": [
    "# Call print_all with three keyword arguments\n",
    "print_all(breakfast='toast', lunch='sandwich', dinner='tacos')"
   ]
  },
  {
   "cell_type": "markdown",
   "metadata": {},
   "source": [
    ">**`Note #5:`** When using `*args` and `**kwargs` it is important to remember it is not the names `args` and `kwargs` that are important, rather it is that the name are preceded by a single `*` or double `**` asterisk\n",
    "\n",
    ">**`Note #6:`** When using a combination of argument types the order is (1) Required positional arguments, (2) Optional positional arguments (`*args`), and (3) Optional keyword arguments (`**kwargs`)"
   ]
  },
  {
   "cell_type": "markdown",
   "metadata": {},
   "source": [
    "---"
   ]
  },
  {
   "cell_type": "markdown",
   "metadata": {},
   "source": [
    "## Functions are Objects\n",
    "Like strings, tuples, lists, dictionaries, and many other things in Python, functions are also objects.  Functions can be assigned to variables, and item in a list or dictionary, used as arguments to other functions, and be returned from functions."
   ]
  },
  {
   "cell_type": "code",
   "execution_count": 80,
   "metadata": {},
   "outputs": [
    {
     "name": "stdout",
     "output_type": "stream",
     "text": [
      "8\n"
     ]
    }
   ],
   "source": [
    "def add_args(arg1, arg2):\n",
    "    '''Print the value of arg1 +arg2'''\n",
    "    print(arg1 + arg2)\n",
    "\n",
    "\t\n",
    "def multiply_args(arg1, arg2):\n",
    "    '''Print the value of arg1 * arg2'''\n",
    "    print(arg1 * arg2)\n",
    "\t\n",
    "def compute(func, arg1, arg2):\n",
    "    '''Call the function passed in and pass arg1 and arg2 to that function'''\n",
    "    func(arg1, arg2)\n",
    "\n",
    "# Call add_args passing in the values of 5 and 3\n",
    "add_args(5, 3)"
   ]
  },
  {
   "cell_type": "code",
   "execution_count": 81,
   "metadata": {},
   "outputs": [
    {
     "name": "stdout",
     "output_type": "stream",
     "text": [
      "8\n"
     ]
    }
   ],
   "source": [
    "# Call compute passing in the function add_args adn the values 5 and 3\n",
    "compute(add_args, 5, 3)"
   ]
  },
  {
   "cell_type": "code",
   "execution_count": 82,
   "metadata": {},
   "outputs": [
    {
     "name": "stdout",
     "output_type": "stream",
     "text": [
      "10\n"
     ]
    }
   ],
   "source": [
    "# Call multiply_args passing in the values 2 and 5\n",
    "multiply_args(2, 5)"
   ]
  },
  {
   "cell_type": "code",
   "execution_count": 83,
   "metadata": {},
   "outputs": [
    {
     "name": "stdout",
     "output_type": "stream",
     "text": [
      "10\n"
     ]
    }
   ],
   "source": [
    "# Call computer passing in the function multiply_args and the values 2 and 5\n",
    "compute(multiply_args, 2, 5)"
   ]
  },
  {
   "cell_type": "code",
   "execution_count": 84,
   "metadata": {},
   "outputs": [
    {
     "name": "stdout",
     "output_type": "stream",
     "text": [
      "8\n"
     ]
    }
   ],
   "source": [
    "# Create a list of the functions add_args and multiply_args\n",
    "math_functions = [add_args, multiply_args]\n",
    "# Call the add_args function using the list math_functions and passing \n",
    "# in the values 5 and 3\n",
    "math_functions[0](5, 3)"
   ]
  },
  {
   "cell_type": "code",
   "execution_count": 85,
   "metadata": {},
   "outputs": [
    {
     "name": "stdout",
     "output_type": "stream",
     "text": [
      "10\n"
     ]
    }
   ],
   "source": [
    "# Call the multiply_args function using the list math_functions and passing \n",
    "# in the values 2 and 5\n",
    "math_functions[1](2, 5)"
   ]
  },
  {
   "cell_type": "markdown",
   "metadata": {},
   "source": [
    "This can also be combined with the use of `*args` and `**kwargs`"
   ]
  },
  {
   "cell_type": "code",
   "execution_count": 88,
   "metadata": {},
   "outputs": [
    {
     "name": "stdout",
     "output_type": "stream",
     "text": [
      "6\n",
      "15\n"
     ]
    }
   ],
   "source": [
    "def sum_args(*args):\n",
    "    '''Sum all the values in *args'''\n",
    "    return sum(args)\n",
    "\n",
    "def use_positional_args(func, *args):\n",
    "    '''Call the function passed in as func and pass *args to that function'''\n",
    "    return func(*args)\n",
    "\n",
    "print(use_positional_args(sum_args, 1, 2, 3))\n",
    "print(use_positional_args(sum_args, 1, 2, 3, 4, 5))"
   ]
  },
  {
   "cell_type": "markdown",
   "metadata": {},
   "source": [
    "---"
   ]
  },
  {
   "cell_type": "markdown",
   "metadata": {},
   "source": [
    "## Anonymous `lambda` Functions\n",
    "A lambda function is an anonymous function because it is not given a name when defined (`def name_of_function:`) as has been shown in all previous examples. These functions provide a quick, and potentially dirty, way to write function that may not be suitable for all uses but do have helpful implementations. Generally they can be useful to anonymously implement simple functionalities embedded within larger expressions. \n",
    "\n",
    "The syntax of a lambda function is the keyword `lambda` followed the name of the arguments, a colon `:` and then the function definition.\n",
    "\n",
    "To compare use the prior add_arg functions:"
   ]
  },
  {
   "cell_type": "code",
   "execution_count": 89,
   "metadata": {},
   "outputs": [
    {
     "name": "stdout",
     "output_type": "stream",
     "text": [
      "8\n"
     ]
    }
   ],
   "source": [
    "def add_args(arg1, arg2):\n",
    "        print(arg1 + arg2)\n",
    "\n",
    "add_args(5,3)"
   ]
  },
  {
   "cell_type": "markdown",
   "metadata": {},
   "source": [
    "This basic normal function can be rewritten as a lambda function:"
   ]
  },
  {
   "cell_type": "code",
   "execution_count": 90,
   "metadata": {},
   "outputs": [
    {
     "data": {
      "text/plain": [
       "8"
      ]
     },
     "execution_count": 90,
     "metadata": {},
     "output_type": "execute_result"
    }
   ],
   "source": [
    "add_args_2 = lambda arg1, arg2: arg1 + arg2\n",
    "add_args_2(5,3)"
   ]
  },
  {
   "cell_type": "markdown",
   "metadata": {},
   "source": [
    "---"
   ]
  },
  {
   "cell_type": "markdown",
   "metadata": {},
   "source": [
    "## Generator Functions\n",
    "**Generator:** a Python sequence creation object. \n",
    "\n",
    "A generator object can be used to iterate over large sequences when it is inefficient to store the entire source of data in memory. Generators differ from normal functions in that each time a generator is iterated over the generator tracks where it was each time it is called in contrast to normal function which have no memory of previous calls (i.e. a normal function starts at the first line of function and at the same state).\n",
    "\n",
    "**Generator Function:** a function that when called produces a generator object.\n",
    "\n",
    "Similar to normal functions a generator function is defined using `def`, however to return a value use the keyword `yield` rather than `return`."
   ]
  },
  {
   "cell_type": "code",
   "execution_count": 94,
   "metadata": {},
   "outputs": [],
   "source": [
    "def number_sequence(n):\n",
    "    '''Generates values from 0 up to (not including) n'''\n",
    "    i = 0\n",
    "    while i < n:\n",
    "        yield i\n",
    "        i += 1\n",
    "\n",
    "generator_sequence = number_sequence(3)"
   ]
  },
  {
   "cell_type": "code",
   "execution_count": 95,
   "metadata": {},
   "outputs": [
    {
     "data": {
      "text/plain": [
       "<generator object number_sequence at 0x7f88d10e1c10>"
      ]
     },
     "execution_count": 95,
     "metadata": {},
     "output_type": "execute_result"
    }
   ],
   "source": [
    "generator_sequence"
   ]
  },
  {
   "cell_type": "code",
   "execution_count": 96,
   "metadata": {},
   "outputs": [
    {
     "name": "stdout",
     "output_type": "stream",
     "text": [
      "0\n",
      "1\n",
      "2\n"
     ]
    }
   ],
   "source": [
    "for num in generator_sequence:\n",
    "    print(num)"
   ]
  },
  {
   "cell_type": "markdown",
   "metadata": {},
   "source": [
    ">**`Note #7:`** A generator can only be ran a single time since the generator object is not stored in memory. A generator object creates the values only when called (i.e. on the fly) and does not remember its values (i.e. cannot restart or back up a generator). This differs from, for example, a list can be iterated over multiple times since its values are store in memory.\n",
    "\n",
    "Trying to iterator over generator_sequence again there are no values to print. Contrasted with printing the elements of a list multiple times."
   ]
  },
  {
   "cell_type": "code",
   "execution_count": 97,
   "metadata": {},
   "outputs": [],
   "source": [
    "# Iterator over generator_sequence again.\n",
    "for num in generator_sequence:\n",
    "    print(num)"
   ]
  },
  {
   "cell_type": "code",
   "execution_count": 98,
   "metadata": {},
   "outputs": [
    {
     "name": "stdout",
     "output_type": "stream",
     "text": [
      "1\n",
      "2\n",
      "3\n"
     ]
    }
   ],
   "source": [
    "# Iterator over list twice\n",
    "my_list = [1, 2, 3]\n",
    "for num in my_list:\n",
    "    print(num)"
   ]
  },
  {
   "cell_type": "code",
   "execution_count": 99,
   "metadata": {},
   "outputs": [
    {
     "name": "stdout",
     "output_type": "stream",
     "text": [
      "1\n",
      "2\n",
      "3\n"
     ]
    }
   ],
   "source": [
    "for num in my_list:\n",
    "    print(num)"
   ]
  },
  {
   "cell_type": "markdown",
   "metadata": {},
   "source": [
    "---"
   ]
  },
  {
   "cell_type": "markdown",
   "metadata": {},
   "source": [
    "## Closures\n",
    "**Closure:** is a tuple of variables that are no longer in scope but are required by a function to run\n",
    "\n",
    "Below the function `outer_function()` defines the nested function `inner_function()` which prints the value of `x`, and `outer_function()` returns `inner_function()`\n",
    "* `function = outer_function()` assigns the `inner_function()` to the variable `function`\n",
    "* When `function()` is then called it prints the value of `x`, the closure makes `x` observable when `function()` (i.e. `inner_function()`) is called"
   ]
  },
  {
   "cell_type": "code",
   "execution_count": 100,
   "metadata": {},
   "outputs": [
    {
     "name": "stdout",
     "output_type": "stream",
     "text": [
      "15\n"
     ]
    }
   ],
   "source": [
    "def outer_function():\n",
    "\tx = 15\n",
    "\tdef inner_function():\n",
    "\t\tprint(x)\n",
    "\treturn inner_function\n",
    "\n",
    "function = outer_function()\n",
    "function()"
   ]
  },
  {
   "cell_type": "code",
   "execution_count": 101,
   "metadata": {},
   "outputs": [
    {
     "data": {
      "text/plain": [
       "tuple"
      ]
     },
     "execution_count": 101,
     "metadata": {},
     "output_type": "execute_result"
    }
   ],
   "source": [
    "type(function.__closure__)"
   ]
  },
  {
   "cell_type": "code",
   "execution_count": 102,
   "metadata": {},
   "outputs": [
    {
     "data": {
      "text/plain": [
       "15"
      ]
     },
     "execution_count": 102,
     "metadata": {},
     "output_type": "execute_result"
    }
   ],
   "source": [
    "function.__closure__[0].cell_contents"
   ]
  },
  {
   "cell_type": "code",
   "execution_count": 103,
   "metadata": {},
   "outputs": [
    {
     "name": "stdout",
     "output_type": "stream",
     "text": [
      "150\n"
     ]
    }
   ],
   "source": [
    "x = 150\n",
    "def outer_function(number):\n",
    "\tdef inner_function():\n",
    "\t\tprint(number)\n",
    "\treturn inner_function\n",
    "\n",
    "function = outer_function(x)\n",
    "function()"
   ]
  },
  {
   "cell_type": "code",
   "execution_count": 104,
   "metadata": {},
   "outputs": [
    {
     "ename": "NameError",
     "evalue": "name 'x' is not defined",
     "output_type": "error",
     "traceback": [
      "\u001b[0;31m---------------------------------------------------------------------------\u001b[0m",
      "\u001b[0;31mNameError\u001b[0m                                 Traceback (most recent call last)",
      "\u001b[0;32m/tmp/ipykernel_5785/2859752125.py\u001b[0m in \u001b[0;36m<module>\u001b[0;34m\u001b[0m\n\u001b[1;32m      1\u001b[0m \u001b[0;31m# Delete the variable x\u001b[0m\u001b[0;34m\u001b[0m\u001b[0;34m\u001b[0m\u001b[0;34m\u001b[0m\u001b[0m\n\u001b[1;32m      2\u001b[0m \u001b[0;32mdel\u001b[0m\u001b[0;34m(\u001b[0m\u001b[0mx\u001b[0m\u001b[0;34m)\u001b[0m\u001b[0;34m\u001b[0m\u001b[0;34m\u001b[0m\u001b[0m\n\u001b[0;32m----> 3\u001b[0;31m \u001b[0mprint\u001b[0m\u001b[0;34m(\u001b[0m\u001b[0mx\u001b[0m\u001b[0;34m)\u001b[0m\u001b[0;34m\u001b[0m\u001b[0;34m\u001b[0m\u001b[0m\n\u001b[0m",
      "\u001b[0;31mNameError\u001b[0m: name 'x' is not defined"
     ]
    }
   ],
   "source": [
    "# Delete the variable x\n",
    "del(x)\n",
    "print(x)"
   ]
  },
  {
   "cell_type": "code",
   "execution_count": 105,
   "metadata": {},
   "outputs": [
    {
     "name": "stdout",
     "output_type": "stream",
     "text": [
      "150\n"
     ]
    }
   ],
   "source": [
    "# The value of x persists in the function's closure\n",
    "function()"
   ]
  },
  {
   "cell_type": "markdown",
   "metadata": {},
   "source": [
    "---"
   ]
  },
  {
   "cell_type": "markdown",
   "metadata": {},
   "source": [
    "## Decorators\n",
    "**Decorator:** a function that takes a function as an input and returns a modified version of the function with modified behavior. Decorators can become useful when an existing function needs to be modified/updated with out changing the source code for the function (e.g. adding debugging statements).\n",
    "* Use `@` followed by the decorator name\n",
    "* For the decorator to return a modified function it is generally helpful to define a new function that is returned (e.g. `wrapper()`)\n",
    "* Decorators make use of nested functions, non-local variables, and closures.\n",
    "\n",
    "First define a function that will be decorated `add()`"
   ]
  },
  {
   "cell_type": "code",
   "execution_count": 106,
   "metadata": {},
   "outputs": [],
   "source": [
    "def add(x, y):\n",
    "\treturn x + y"
   ]
  },
  {
   "cell_type": "markdown",
   "metadata": {},
   "source": [
    "Define the decorator function (`double()`) and within it define the new function (`wrapper()`) that will be returned\n",
    "* `wrapper()` takes the two arguments and passes them to the function that was passed to `double()`"
   ]
  },
  {
   "cell_type": "code",
   "execution_count": 108,
   "metadata": {},
   "outputs": [],
   "source": [
    "def double(func):\n",
    "\t# Define the new function that will be modified\n",
    "\tdef wrapper(x, y):\n",
    "\t\t# Call the passed in function with modified arguments\n",
    "\t\treturn func(x*2, y*2)\n",
    "\t# Return the modified function\n",
    "\treturn wrapper"
   ]
  },
  {
   "cell_type": "markdown",
   "metadata": {},
   "source": [
    "Now `add()` can be passed to the function `double()` and assign the result to `new_addition()`\n",
    "* `new_addition()` is equal to `wrapper()` which calls `add()` after doubling each argument"
   ]
  },
  {
   "cell_type": "code",
   "execution_count": 109,
   "metadata": {},
   "outputs": [
    {
     "data": {
      "text/plain": [
       "12"
      ]
     },
     "execution_count": 109,
     "metadata": {},
     "output_type": "execute_result"
    }
   ],
   "source": [
    "new_addition = double(add)\n",
    "new_addition(2, 4)"
   ]
  },
  {
   "cell_type": "markdown",
   "metadata": {},
   "source": [
    "Using `@double` prior to the definition of add is equivalent to `add = double_args(add)`"
   ]
  },
  {
   "cell_type": "code",
   "execution_count": 110,
   "metadata": {},
   "outputs": [
    {
     "data": {
      "text/plain": [
       "12"
      ]
     },
     "execution_count": 110,
     "metadata": {},
     "output_type": "execute_result"
    }
   ],
   "source": [
    "@double\n",
    "def add(x, y):\n",
    "    return x + y\n",
    "\n",
    "add(2, 4)"
   ]
  },
  {
   "cell_type": "markdown",
   "metadata": {},
   "source": [
    "More than one decorator can be used on a function"
   ]
  },
  {
   "cell_type": "code",
   "execution_count": 116,
   "metadata": {},
   "outputs": [
    {
     "name": "stdout",
     "output_type": "stream",
     "text": [
      "Running: wrapper\n",
      "Positional args: (2, 4)\n",
      "Keyword args: {}\n",
      "Result: 12\n"
     ]
    },
    {
     "data": {
      "text/plain": [
       "12"
      ]
     },
     "execution_count": 116,
     "metadata": {},
     "output_type": "execute_result"
    }
   ],
   "source": [
    "def document_a_function(func):\n",
    "    def wrapper(*args, **kwargs):\n",
    "        print('Running:', func.__name__)\n",
    "        print('Positional args:', args)\n",
    "        print('Keyword args:', kwargs)\n",
    "        result = func(*args, **kwargs)\n",
    "        print('Result:', result)\n",
    "        return result\n",
    "    return wrapper\n",
    "\n",
    "\n",
    "@document_a_function\n",
    "@double\n",
    "def add (x, y):\n",
    "\treturn x + y\n",
    "\n",
    "add(2, 4)"
   ]
  },
  {
   "cell_type": "markdown",
   "metadata": {},
   "source": [
    "### Function Metadata\n",
    "One potential issue with the use of decorators is the decorator obscures the decorated function's metadata (e.g. the function docstring or name)"
   ]
  },
  {
   "cell_type": "code",
   "execution_count": 120,
   "metadata": {},
   "outputs": [
    {
     "name": "stdout",
     "output_type": "stream",
     "text": [
      "sleep_n_seconds\n"
     ]
    }
   ],
   "source": [
    "import time\n",
    "def sleep_n_seconds(n=10):\n",
    "    '''Pause processing for n seconds\n",
    "\n",
    "    Args:\n",
    "        n (int): The number of seconds to pause for.\n",
    "    '''\n",
    "    time.sleep(n)\n",
    "\n",
    "print(sleep_n_seconds.__name__)"
   ]
  },
  {
   "cell_type": "markdown",
   "metadata": {},
   "source": [
    "If `sleep_n_seconds()` is decorated, the decorator will obscure `sleep_n_seconds()`'s metadata. Below `sleep_n_seconds()` gets decorated with `timer()`.\n",
    "* Printing the `__name__` attribute shows the name of the function is `wrapper`\n",
    "  * This is because when defining the `timer` decorator the nested function `wrapper()` is returned\n",
    "    * The decorator overwrites the `sleep_n_seconds()` function\n",
    "    * Trying to then access `sleep_n_seconds()` docstring the code is now referencing the nested function `wrapper()` which is returned by the decorator"
   ]
  },
  {
   "cell_type": "code",
   "execution_count": 122,
   "metadata": {},
   "outputs": [
    {
     "name": "stdout",
     "output_type": "stream",
     "text": [
      "sleep_n_seconds took 3.003546714782715s\n"
     ]
    }
   ],
   "source": [
    "def timer(func):\n",
    "    '''A decorator that prints how long a function takes to run.\n",
    "\n",
    "    Args:\n",
    "        func(callable): The function being decorated\n",
    "    Returns:\n",
    "        callable: The decorated function\n",
    "    '''\n",
    "    def wrapper(*args, **kwargs):\n",
    "        # Get the current time\n",
    "        t_start = time.time()\n",
    "        # Call the decorated function and store the result\n",
    "        result = func(*args, **kwargs)\n",
    "        # Get the total time it took to run the function\n",
    "        t_total = time.time() - t_start\n",
    "        print('{} took {}s'.format(func.__name__, t_total))\n",
    "    return wrapper\n",
    "\n",
    "@timer\n",
    "def sleep_n_seconds(n=10):\n",
    "    '''Pause processing for n seconds\n",
    "\n",
    "    Args:\n",
    "        n (int): The number of seconds to pause for.\n",
    "    '''\n",
    "    time.sleep(n)\n",
    "\n",
    "sleep_n_seconds(3)"
   ]
  },
  {
   "cell_type": "code",
   "execution_count": 123,
   "metadata": {},
   "outputs": [
    {
     "name": "stdout",
     "output_type": "stream",
     "text": [
      "wrapper\n"
     ]
    }
   ],
   "source": [
    "print(sleep_n_seconds.__name__)"
   ]
  },
  {
   "cell_type": "code",
   "execution_count": 124,
   "metadata": {},
   "outputs": [
    {
     "name": "stdout",
     "output_type": "stream",
     "text": [
      "None\n"
     ]
    }
   ],
   "source": [
    "print(sleep_n_seconds.__doc__)"
   ]
  },
  {
   "cell_type": "markdown",
   "metadata": {},
   "source": [
    "This limitation can be overcome using the `wraps` function from the `functools` module"
   ]
  },
  {
   "cell_type": "code",
   "execution_count": 125,
   "metadata": {},
   "outputs": [
    {
     "name": "stdout",
     "output_type": "stream",
     "text": [
      "sleep_n_seconds took 3.0032482147216797s\n"
     ]
    }
   ],
   "source": [
    "from functools import wraps\n",
    "def timer(func):\n",
    "\t'''A decorator that prints how long a function takes to run.\n",
    "\n",
    "\tArgs:\n",
    "\t\tfunc(callable): The function being decorated\n",
    "\tReturns:\n",
    "\t\tcallable: The decorated function\n",
    "\t'''\n",
    "\t@wraps(func)\n",
    "\tdef wrapper(*args, **kwargs):\n",
    "\t\t# Get the current time\n",
    "\t\tt_start = time.time()\n",
    "\t\t# Call the decorated function and store the result\n",
    "\t\tresult = func(*args, **kwargs)\n",
    "\t\t# Get the total time it took to run the function\n",
    "\t\tt_total = time.time() - t_start\n",
    "\t\tprint('{} took {}s'.format(func.__name__, t_total))\n",
    "\treturn wrapper\n",
    "\n",
    "@timer\n",
    "def sleep_n_seconds(n):\n",
    "\t'''Pause processing for n seconds.\n",
    "\n",
    "\tArgs:\n",
    "\t\tn (int): The number of seconds to pause for.\n",
    "\t'''\n",
    "\ttime.sleep(n)\n",
    "\n",
    "sleep_n_seconds(3)"
   ]
  },
  {
   "cell_type": "code",
   "execution_count": 126,
   "metadata": {},
   "outputs": [
    {
     "name": "stdout",
     "output_type": "stream",
     "text": [
      "sleep_n_seconds\n"
     ]
    }
   ],
   "source": [
    "print(sleep_n_seconds.__name__)"
   ]
  },
  {
   "cell_type": "code",
   "execution_count": 127,
   "metadata": {},
   "outputs": [
    {
     "name": "stdout",
     "output_type": "stream",
     "text": [
      "Pause processing for n seconds.\n",
      "\n",
      "\tArgs:\n",
      "\t\tn (int): The number of seconds to pause for.\n",
      "\t\n"
     ]
    }
   ],
   "source": [
    "print(sleep_n_seconds.__doc__)"
   ]
  },
  {
   "cell_type": "markdown",
   "metadata": {},
   "source": [
    "### Decorators with Arguments\n",
    "For a decorator to incorporate arguments the decorator function (`run_n_times`) must return a decorator, rather than a function that is a decorator\n",
    "* `decorator(func)`: the new decorator defined inside the function \n",
    "  * This function has a nested `wrapper()` function like all other decorator examples\n",
    "* Since `wrapper()` is in the `run_n_times()` scope the function has access to `n` to run the function `n` amount of times\n",
    "* Then `wrapper()` is returned\n",
    "* `run_n_times()` then returns the `decorator()` function which can then be used as a decorator\n",
    "* `@run_n_times(n)` indicates that `run_n_times()` is being called and is decorating `print_sum()`\n",
    "  * Since `run_n_times()` returns a decorator function it can be used to decorate `print_sum()`"
   ]
  },
  {
   "cell_type": "code",
   "execution_count": 128,
   "metadata": {},
   "outputs": [
    {
     "name": "stdout",
     "output_type": "stream",
     "text": [
      "5\n",
      "5\n",
      "5\n"
     ]
    }
   ],
   "source": [
    "def run_n_times(n):\n",
    "\t'''Define and return a decorator'''\n",
    "\tdef decorator(func):\n",
    "\t\tdef wrapper(*args, **kwargs):\n",
    "\t\t\tfor i in range(n):\n",
    "\t\t\t\tfunc(*args, **kwargs)\n",
    "\t\treturn wrapper\n",
    "\treturn decorator\n",
    "\n",
    "@run_n_times(3)\n",
    "def print_sum(x, y):\n",
    "\tprint(x + y)\n",
    "\n",
    "\t\n",
    "print_sum(2, 3)"
   ]
  },
  {
   "cell_type": "markdown",
   "metadata": {},
   "source": [
    "---"
   ]
  },
  {
   "cell_type": "markdown",
   "metadata": {},
   "source": [
    "## Exceptions\n",
    "**Exceptions:** are specific code that is executed when a corresponding error occurs during code execution.\n",
    "\n",
    "An example would include attempting to access a out-of-range index of a list."
   ]
  },
  {
   "cell_type": "code",
   "execution_count": 130,
   "metadata": {},
   "outputs": [
    {
     "ename": "IndexError",
     "evalue": "list index out of range",
     "output_type": "error",
     "traceback": [
      "\u001b[0;31m---------------------------------------------------------------------------\u001b[0m",
      "\u001b[0;31mIndexError\u001b[0m                                Traceback (most recent call last)",
      "\u001b[0;32m/tmp/ipykernel_5785/2600307307.py\u001b[0m in \u001b[0;36m<module>\u001b[0;34m\u001b[0m\n\u001b[1;32m      1\u001b[0m \u001b[0mmy_list\u001b[0m \u001b[0;34m=\u001b[0m \u001b[0;34m[\u001b[0m\u001b[0;36m2\u001b[0m\u001b[0;34m,\u001b[0m \u001b[0;36m5\u001b[0m\u001b[0;34m,\u001b[0m \u001b[0;36m7\u001b[0m\u001b[0;34m]\u001b[0m\u001b[0;34m\u001b[0m\u001b[0;34m\u001b[0m\u001b[0m\n\u001b[0;32m----> 2\u001b[0;31m \u001b[0mmy_list\u001b[0m\u001b[0;34m[\u001b[0m\u001b[0;36m5\u001b[0m\u001b[0;34m]\u001b[0m\u001b[0;34m\u001b[0m\u001b[0;34m\u001b[0m\u001b[0m\n\u001b[0m",
      "\u001b[0;31mIndexError\u001b[0m: list index out of range"
     ]
    }
   ],
   "source": [
    "my_list = [2, 5, 7]\n",
    "my_list[5]"
   ]
  },
  {
   "cell_type": "markdown",
   "metadata": {},
   "source": [
    "It is best practice to include exception handling throughout code anywhere an exception may occur. An exception handling can provide helpful information about the error that occurred and stop the execution of the code.\n",
    "\n",
    "Error handling can be implemented by wrapping code with `try`, and using `except` for the error handling. \n",
    "\n",
    "When using `try-except`:\n",
    "1. First Python runs the code contained within the `try` block (`return x ** 0.5`)\n",
    "2. If, and only if, the code cannot execute successfully due to an error an exception is raised and the code within the `except` block (`print('x must be an int or float')`) is executed"
   ]
  },
  {
   "cell_type": "code",
   "execution_count": 131,
   "metadata": {},
   "outputs": [
    {
     "data": {
      "text/plain": [
       "2.0"
      ]
     },
     "execution_count": 131,
     "metadata": {},
     "output_type": "execute_result"
    }
   ],
   "source": [
    "def sqrt(x):\n",
    "        '''Returns the square root of a number (x)'''\n",
    "        try:\n",
    "            return x ** 0.5\n",
    "        except:\n",
    "            print('x must be an int or float')\n",
    "\n",
    "sqrt(4)"
   ]
  },
  {
   "cell_type": "code",
   "execution_count": 132,
   "metadata": {},
   "outputs": [
    {
     "name": "stdout",
     "output_type": "stream",
     "text": [
      "x must be an int or float\n"
     ]
    }
   ],
   "source": [
    "sqrt('four')"
   ]
  },
  {
   "cell_type": "markdown",
   "metadata": {},
   "source": [
    "When `except` is used, without any additional arguments, it will catch any type of exception. However, to provide more detailed information on the error that occurred it can be helpful to include an exception handler for each type of exception. There is not a limit in the number of specific exception handlers that can be used."
   ]
  },
  {
   "cell_type": "code",
   "execution_count": 135,
   "metadata": {},
   "outputs": [
    {
     "name": "stdout",
     "output_type": "stream",
     "text": [
      "2.0\n"
     ]
    }
   ],
   "source": [
    "my_list = [4, 'four']\n",
    "def sqrt(x):\n",
    "    '''Returns the square root of a number(x)'''\n",
    "    try: \n",
    "        return x ** 0.5\n",
    "    except TypeError as type_err:\n",
    "        print('Type Error:', type_err)\n",
    "    except IndexError as index_err:\n",
    "        print('Index Error:', index_err)\n",
    "    except Exception as other:\n",
    "        print('Other Error:', other)\n",
    "\n",
    "print(sqrt(my_list[0]))"
   ]
  },
  {
   "cell_type": "code",
   "execution_count": 136,
   "metadata": {},
   "outputs": [
    {
     "name": "stdout",
     "output_type": "stream",
     "text": [
      "Type Error: unsupported operand type(s) for ** or pow(): 'str' and 'float'\n",
      "None\n"
     ]
    }
   ],
   "source": [
    "print(sqrt(my_list[1]))"
   ]
  },
  {
   "cell_type": "code",
   "execution_count": 137,
   "metadata": {},
   "outputs": [
    {
     "ename": "IndexError",
     "evalue": "list index out of range",
     "output_type": "error",
     "traceback": [
      "\u001b[0;31m---------------------------------------------------------------------------\u001b[0m",
      "\u001b[0;31mIndexError\u001b[0m                                Traceback (most recent call last)",
      "\u001b[0;32m/tmp/ipykernel_5785/1990173502.py\u001b[0m in \u001b[0;36m<module>\u001b[0;34m\u001b[0m\n\u001b[0;32m----> 1\u001b[0;31m \u001b[0mprint\u001b[0m\u001b[0;34m(\u001b[0m\u001b[0msqrt\u001b[0m\u001b[0;34m(\u001b[0m\u001b[0mmy_list\u001b[0m\u001b[0;34m[\u001b[0m\u001b[0;36m2\u001b[0m\u001b[0;34m]\u001b[0m\u001b[0;34m)\u001b[0m\u001b[0;34m)\u001b[0m\u001b[0;34m\u001b[0m\u001b[0;34m\u001b[0m\u001b[0m\n\u001b[0m",
      "\u001b[0;31mIndexError\u001b[0m: list index out of range"
     ]
    }
   ],
   "source": [
    "print(sqrt(my_list[2]))"
   ]
  },
  {
   "cell_type": "markdown",
   "metadata": {},
   "source": [
    "The keyword `raise` can be used to throw and exception if a specific condition occurs that should not be executed. "
   ]
  },
  {
   "cell_type": "code",
   "execution_count": 138,
   "metadata": {},
   "outputs": [
    {
     "ename": "ValueError",
     "evalue": "x should be a non-negative integer. The value of x was: -4",
     "output_type": "error",
     "traceback": [
      "\u001b[0;31m---------------------------------------------------------------------------\u001b[0m",
      "\u001b[0;31mValueError\u001b[0m                                Traceback (most recent call last)",
      "\u001b[0;32m/tmp/ipykernel_5785/1164012046.py\u001b[0m in \u001b[0;36m<module>\u001b[0;34m\u001b[0m\n\u001b[1;32m     12\u001b[0m         \u001b[0mprint\u001b[0m\u001b[0;34m(\u001b[0m\u001b[0;34m'Other Error:'\u001b[0m\u001b[0;34m,\u001b[0m \u001b[0mother\u001b[0m\u001b[0;34m)\u001b[0m\u001b[0;34m\u001b[0m\u001b[0;34m\u001b[0m\u001b[0m\n\u001b[1;32m     13\u001b[0m \u001b[0;34m\u001b[0m\u001b[0m\n\u001b[0;32m---> 14\u001b[0;31m \u001b[0msqrt\u001b[0m\u001b[0;34m(\u001b[0m\u001b[0;34m-\u001b[0m\u001b[0;36m4\u001b[0m\u001b[0;34m)\u001b[0m\u001b[0;34m\u001b[0m\u001b[0;34m\u001b[0m\u001b[0m\n\u001b[0m",
      "\u001b[0;32m/tmp/ipykernel_5785/1164012046.py\u001b[0m in \u001b[0;36msqrt\u001b[0;34m(x)\u001b[0m\n\u001b[1;32m      2\u001b[0m     \u001b[0;34m'''Returns the square root of a number (x)'''\u001b[0m\u001b[0;34m\u001b[0m\u001b[0;34m\u001b[0m\u001b[0m\n\u001b[1;32m      3\u001b[0m     \u001b[0;32mif\u001b[0m \u001b[0mx\u001b[0m \u001b[0;34m<\u001b[0m \u001b[0;36m0\u001b[0m\u001b[0;34m:\u001b[0m\u001b[0;34m\u001b[0m\u001b[0;34m\u001b[0m\u001b[0m\n\u001b[0;32m----> 4\u001b[0;31m         \u001b[0;32mraise\u001b[0m \u001b[0mValueError\u001b[0m \u001b[0;34m(\u001b[0m\u001b[0;34m'x should be a non-negative integer. The value of x was: {}'\u001b[0m\u001b[0;34m.\u001b[0m\u001b[0mformat\u001b[0m\u001b[0;34m(\u001b[0m\u001b[0mx\u001b[0m\u001b[0;34m)\u001b[0m\u001b[0;34m)\u001b[0m\u001b[0;34m\u001b[0m\u001b[0;34m\u001b[0m\u001b[0m\n\u001b[0m\u001b[1;32m      5\u001b[0m     \u001b[0;32mtry\u001b[0m\u001b[0;34m:\u001b[0m\u001b[0;34m\u001b[0m\u001b[0;34m\u001b[0m\u001b[0m\n\u001b[1;32m      6\u001b[0m         \u001b[0;32mreturn\u001b[0m \u001b[0mx\u001b[0m \u001b[0;34m**\u001b[0m \u001b[0;36m0.5\u001b[0m\u001b[0;34m\u001b[0m\u001b[0;34m\u001b[0m\u001b[0m\n",
      "\u001b[0;31mValueError\u001b[0m: x should be a non-negative integer. The value of x was: -4"
     ]
    }
   ],
   "source": [
    "def sqrt(x):\n",
    "    '''Returns the square root of a number (x)'''\n",
    "    if x < 0:\n",
    "        raise ValueError ('x should be a non-negative integer. The value of x was: {}'.format(x))\n",
    "    try:\n",
    "        return x ** 0.5\n",
    "    except TypeError as type_err:\n",
    "            print('Type Error:', type_err)\n",
    "    except IndexError as index_err:\n",
    "        print('Index Error:', index_err)\n",
    "    except Exception as other:\n",
    "        print('Other Error:', other)\n",
    "\n",
    "sqrt(-4)"
   ]
  },
  {
   "cell_type": "markdown",
   "metadata": {},
   "source": [
    "If you enjoy what you read and find it helpful please check back, and check back often, click here [Medium](https://medium.com/@emguyant) and follow me while giving a clap to the article! Also don't forget to subscribe to the Inquisitive Nature publication."
   ]
  }
 ],
 "metadata": {
  "kernelspec": {
   "display_name": "Python 3.8.10 64-bit",
   "language": "python",
   "name": "python3"
  },
  "language_info": {
   "codemirror_mode": {
    "name": "ipython",
    "version": 3
   },
   "file_extension": ".py",
   "mimetype": "text/x-python",
   "name": "python",
   "nbconvert_exporter": "python",
   "pygments_lexer": "ipython3",
   "version": "3.8.10"
  },
  "vscode": {
   "interpreter": {
    "hash": "916dbcbb3f70747c44a77c7bcd40155683ae19c65e1c03b4aa3499c5328201f1"
   }
  }
 },
 "nbformat": 4,
 "nbformat_minor": 2
}
